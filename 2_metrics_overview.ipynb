{
 "cells": [
  {
   "cell_type": "markdown",
   "metadata": {
    "id": "RoZFhXZy6hJw"
   },
   "source": [
    "# Dependencies and imports"
   ]
  },
  {
   "cell_type": "code",
   "execution_count": 1,
   "metadata": {
    "executionInfo": {
     "elapsed": 890,
     "status": "ok",
     "timestamp": 1716297952803,
     "user": {
      "displayName": "Marco Russodivito",
      "userId": "05013084347772678948"
     },
     "user_tz": -120
    },
    "id": "wWYlmVNbxvAC"
   },
   "outputs": [],
   "source": [
    "import json\n",
    "\n",
    "from tqdm import tqdm\n",
    "import pandas as pd"
   ]
  },
  {
   "cell_type": "code",
   "execution_count": 2,
   "metadata": {
    "colab": {
     "base_uri": "https://localhost:8080/"
    },
    "executionInfo": {
     "elapsed": 19276,
     "status": "ok",
     "timestamp": 1716297972077,
     "user": {
      "displayName": "Marco Russodivito",
      "userId": "05013084347772678948"
     },
     "user_tz": -120
    },
    "id": "hUMh4D80zUyG",
    "outputId": "5b51a3d1-9fca-415b-f6de-a9c0c6ca618a"
   },
   "outputs": [],
   "source": [
    "TEXTS_PREFIXES = ['original', 'reviewer1', 'reviewer2', 'gpt4']"
   ]
  },
  {
   "cell_type": "markdown",
   "metadata": {
    "id": "36xGfDwwBTbE"
   },
   "source": [
    "# Utils"
   ]
  },
  {
   "cell_type": "code",
   "execution_count": 3,
   "metadata": {
    "executionInfo": {
     "elapsed": 2,
     "status": "ok",
     "timestamp": 1716297972077,
     "user": {
      "displayName": "Marco Russodivito",
      "userId": "05013084347772678948"
     },
     "user_tz": -120
    },
    "id": "rfIYdrtnBUnZ"
   },
   "outputs": [],
   "source": [
    "def merge_sets(sets):\n",
    "  merged = set()\n",
    "  for s in sets:\n",
    "    merged = merged.union(s)\n",
    "  return merged"
   ]
  },
  {
   "cell_type": "markdown",
   "metadata": {
    "id": "d6Km2oRp6cJj"
   },
   "source": [
    "# Load Data"
   ]
  },
  {
   "cell_type": "code",
   "execution_count": 4,
   "metadata": {
    "executionInfo": {
     "elapsed": 5337,
     "status": "ok",
     "timestamp": 1716297977412,
     "user": {
      "displayName": "Marco Russodivito",
      "userId": "05013084347772678948"
     },
     "user_tz": -120
    },
    "id": "rMEUA3khygXA"
   },
   "outputs": [],
   "source": [
    "dfs_maps = {\n",
    "  'original': pd.read_csv(f\"./corpora_with_metrics/original.csv\", encoding='utf-8'),\n",
    "  'reviewer1': pd.read_csv(f\"./corpora_with_metrics/reviewer1.csv\", encoding='utf-8'),\n",
    "  'reviewer2': pd.read_csv(f\"./corpora_with_metrics/reviewer2.csv\", encoding='utf-8'),\n",
    "  'gpt4': pd.read_csv(f\"./corpora_with_metrics/gpt4.csv\", encoding='utf-8'),\n",
    "}\n",
    "jsons_maps = {\n",
    "  'original': json.load(open(f\"./corpora_with_metrics/original.json\", 'r')),\n",
    "  'reviewer1': json.load(open(f\"./corpora_with_metrics/reviewer1.json\", 'r')),\n",
    "  'reviewer2': json.load(open(f\"./corpora_with_metrics/reviewer2.json\", 'r')),\n",
    "  'gpt4': json.load(open(f\"./corpora_with_metrics/gpt4.json\", 'r')),\n",
    "}"
   ]
  },
  {
   "cell_type": "markdown",
   "metadata": {
    "id": "RX7yFHMsGoyr"
   },
   "source": [
    "# Basic"
   ]
  },
  {
   "cell_type": "code",
   "execution_count": 5,
   "metadata": {
    "colab": {
     "base_uri": "https://localhost:8080/",
     "height": 174
    },
    "executionInfo": {
     "elapsed": 825,
     "status": "ok",
     "timestamp": 1716297978236,
     "user": {
      "displayName": "Marco Russodivito",
      "userId": "05013084347772678948"
     },
     "user_tz": -120
    },
    "id": "jc2k36ORGoyr",
    "outputId": "ad929208-57f8-4013-ea5b-49729e338893"
   },
   "outputs": [
    {
     "data": {
      "text/html": [
       "<div>\n",
       "<style scoped>\n",
       "    .dataframe tbody tr th:only-of-type {\n",
       "        vertical-align: middle;\n",
       "    }\n",
       "\n",
       "    .dataframe tbody tr th {\n",
       "        vertical-align: top;\n",
       "    }\n",
       "\n",
       "    .dataframe thead th {\n",
       "        text-align: right;\n",
       "    }\n",
       "</style>\n",
       "<table border=\"1\" class=\"dataframe\">\n",
       "  <thead>\n",
       "    <tr style=\"text-align: right;\">\n",
       "      <th></th>\n",
       "      <th>Reviewer</th>\n",
       "      <th>Tokens</th>\n",
       "      <th>Tokens (con punteg.)</th>\n",
       "      <th>Caratteri</th>\n",
       "      <th>Caratteri (con punt)</th>\n",
       "      <th>Sillabe</th>\n",
       "      <th>Frasi</th>\n",
       "      <th>Types</th>\n",
       "      <th>Lemmi</th>\n",
       "    </tr>\n",
       "  </thead>\n",
       "  <tbody>\n",
       "    <tr>\n",
       "      <th>0</th>\n",
       "      <td>original</td>\n",
       "      <td>33295</td>\n",
       "      <td>37429</td>\n",
       "      <td>191925</td>\n",
       "      <td>196071</td>\n",
       "      <td>79438</td>\n",
       "      <td>1314</td>\n",
       "      <td>5622</td>\n",
       "      <td>4096</td>\n",
       "    </tr>\n",
       "    <tr>\n",
       "      <th>1</th>\n",
       "      <td>reviewer1</td>\n",
       "      <td>34135</td>\n",
       "      <td>38193</td>\n",
       "      <td>181872</td>\n",
       "      <td>185945</td>\n",
       "      <td>76008</td>\n",
       "      <td>1506</td>\n",
       "      <td>5270</td>\n",
       "      <td>3640</td>\n",
       "    </tr>\n",
       "    <tr>\n",
       "      <th>2</th>\n",
       "      <td>reviewer2</td>\n",
       "      <td>29755</td>\n",
       "      <td>33933</td>\n",
       "      <td>166464</td>\n",
       "      <td>170654</td>\n",
       "      <td>69169</td>\n",
       "      <td>1744</td>\n",
       "      <td>5143</td>\n",
       "      <td>3693</td>\n",
       "    </tr>\n",
       "    <tr>\n",
       "      <th>3</th>\n",
       "      <td>gpt4</td>\n",
       "      <td>31722</td>\n",
       "      <td>36017</td>\n",
       "      <td>175147</td>\n",
       "      <td>179442</td>\n",
       "      <td>73110</td>\n",
       "      <td>1840</td>\n",
       "      <td>4930</td>\n",
       "      <td>3376</td>\n",
       "    </tr>\n",
       "  </tbody>\n",
       "</table>\n",
       "</div>"
      ],
      "text/plain": [
       "    Reviewer  Tokens  Tokens (con punteg.)  Caratteri  Caratteri (con punt)  \\\n",
       "0   original   33295                 37429     191925                196071   \n",
       "1  reviewer1   34135                 38193     181872                185945   \n",
       "2  reviewer2   29755                 33933     166464                170654   \n",
       "3       gpt4   31722                 36017     175147                179442   \n",
       "\n",
       "   Sillabe  Frasi  Types  Lemmi  \n",
       "0    79438   1314   5622   4096  \n",
       "1    76008   1506   5270   3640  \n",
       "2    69169   1744   5143   3693  \n",
       "3    73110   1840   4930   3376  "
      ]
     },
     "execution_count": 5,
     "metadata": {},
     "output_type": "execute_result"
    }
   ],
   "source": [
    "d = []\n",
    "for TEXT_PREFIX, df in dfs_maps.items():\n",
    "  d.append({\n",
    "    'Reviewer': TEXT_PREFIX,\n",
    "    'Tokens': df[f'{TEXT_PREFIX}_n_tokens'].sum(),\n",
    "    'Tokens (con punteg.)': df[f'{TEXT_PREFIX}_n_tokens_all'].sum(),\n",
    "    'Caratteri': df[f'{TEXT_PREFIX}_n_chars'].sum(),\n",
    "    'Caratteri (con punt)': df[f'{TEXT_PREFIX}_n_chars_all'].sum(),\n",
    "    'Sillabe': df[f'{TEXT_PREFIX}_n_syllables'].sum(),\n",
    "    'Frasi': df[f'{TEXT_PREFIX}_n_sentences'].sum(),\n",
    "    'Types': len(merge_sets([set(j[f'{TEXT_PREFIX}_tokens']) for j in jsons_maps[TEXT_PREFIX]])),\n",
    "    'Lemmi': len(merge_sets([set(j[f'{TEXT_PREFIX}_lemmas']) for j in jsons_maps[TEXT_PREFIX]])),\n",
    "  })\n",
    "\n",
    "d = pd.DataFrame(d)\n",
    "d.head(10)"
   ]
  },
  {
   "cell_type": "markdown",
   "metadata": {
    "id": "fFBKuK5FGoyr"
   },
   "source": [
    "# Pos"
   ]
  },
  {
   "cell_type": "code",
   "execution_count": 6,
   "metadata": {
    "colab": {
     "base_uri": "https://localhost:8080/",
     "height": 212
    },
    "executionInfo": {
     "elapsed": 12,
     "status": "ok",
     "timestamp": 1716297978236,
     "user": {
      "displayName": "Marco Russodivito",
      "userId": "05013084347772678948"
     },
     "user_tz": -120
    },
    "id": "bDl8jVaXGoyr",
    "outputId": "5068c078-88c2-4d8c-cb6c-0b3f42bc4f10"
   },
   "outputs": [
    {
     "data": {
      "text/html": [
       "<div>\n",
       "<style scoped>\n",
       "    .dataframe tbody tr th:only-of-type {\n",
       "        vertical-align: middle;\n",
       "    }\n",
       "\n",
       "    .dataframe tbody tr th {\n",
       "        vertical-align: top;\n",
       "    }\n",
       "\n",
       "    .dataframe thead th {\n",
       "        text-align: right;\n",
       "    }\n",
       "</style>\n",
       "<table border=\"1\" class=\"dataframe\">\n",
       "  <thead>\n",
       "    <tr style=\"text-align: right;\">\n",
       "      <th></th>\n",
       "      <th>Reviewer</th>\n",
       "      <th>Altro</th>\n",
       "      <th>Nomi</th>\n",
       "      <th>Verbi</th>\n",
       "      <th>Numeri</th>\n",
       "      <th>Simboli</th>\n",
       "      <th>Avverbi</th>\n",
       "      <th>Articoli</th>\n",
       "      <th>Pronomi</th>\n",
       "      <th>Particelle</th>\n",
       "      <th>Aggettivi</th>\n",
       "      <th>Preposizioni</th>\n",
       "      <th>Nomi propri</th>\n",
       "      <th>Punteggiatura</th>\n",
       "      <th>Interiezioni</th>\n",
       "      <th>Cong. coord.</th>\n",
       "      <th>Cong. sub.</th>\n",
       "    </tr>\n",
       "  </thead>\n",
       "  <tbody>\n",
       "    <tr>\n",
       "      <th>0</th>\n",
       "      <td>original</td>\n",
       "      <td>26</td>\n",
       "      <td>10206</td>\n",
       "      <td>3496</td>\n",
       "      <td>739</td>\n",
       "      <td>32</td>\n",
       "      <td>786</td>\n",
       "      <td>3313</td>\n",
       "      <td>658</td>\n",
       "      <td>0</td>\n",
       "      <td>3630</td>\n",
       "      <td>7786</td>\n",
       "      <td>1055</td>\n",
       "      <td>4089</td>\n",
       "      <td>0</td>\n",
       "      <td>1445</td>\n",
       "      <td>168</td>\n",
       "    </tr>\n",
       "    <tr>\n",
       "      <th>1</th>\n",
       "      <td>reviewer1</td>\n",
       "      <td>22</td>\n",
       "      <td>9493</td>\n",
       "      <td>5047</td>\n",
       "      <td>763</td>\n",
       "      <td>34</td>\n",
       "      <td>944</td>\n",
       "      <td>4039</td>\n",
       "      <td>1266</td>\n",
       "      <td>0</td>\n",
       "      <td>2858</td>\n",
       "      <td>6584</td>\n",
       "      <td>1163</td>\n",
       "      <td>4013</td>\n",
       "      <td>0</td>\n",
       "      <td>1543</td>\n",
       "      <td>424</td>\n",
       "    </tr>\n",
       "    <tr>\n",
       "      <th>2</th>\n",
       "      <td>reviewer2</td>\n",
       "      <td>22</td>\n",
       "      <td>8891</td>\n",
       "      <td>3975</td>\n",
       "      <td>707</td>\n",
       "      <td>33</td>\n",
       "      <td>796</td>\n",
       "      <td>3838</td>\n",
       "      <td>650</td>\n",
       "      <td>0</td>\n",
       "      <td>2740</td>\n",
       "      <td>5620</td>\n",
       "      <td>1021</td>\n",
       "      <td>4135</td>\n",
       "      <td>0</td>\n",
       "      <td>1196</td>\n",
       "      <td>309</td>\n",
       "    </tr>\n",
       "    <tr>\n",
       "      <th>3</th>\n",
       "      <td>gpt4</td>\n",
       "      <td>9</td>\n",
       "      <td>8484</td>\n",
       "      <td>5142</td>\n",
       "      <td>780</td>\n",
       "      <td>36</td>\n",
       "      <td>1035</td>\n",
       "      <td>4400</td>\n",
       "      <td>917</td>\n",
       "      <td>0</td>\n",
       "      <td>2794</td>\n",
       "      <td>5327</td>\n",
       "      <td>954</td>\n",
       "      <td>4264</td>\n",
       "      <td>0</td>\n",
       "      <td>1378</td>\n",
       "      <td>497</td>\n",
       "    </tr>\n",
       "  </tbody>\n",
       "</table>\n",
       "</div>"
      ],
      "text/plain": [
       "    Reviewer  Altro   Nomi  Verbi  Numeri  Simboli  Avverbi  Articoli  \\\n",
       "0   original     26  10206   3496     739       32      786      3313   \n",
       "1  reviewer1     22   9493   5047     763       34      944      4039   \n",
       "2  reviewer2     22   8891   3975     707       33      796      3838   \n",
       "3       gpt4      9   8484   5142     780       36     1035      4400   \n",
       "\n",
       "   Pronomi  Particelle  Aggettivi  Preposizioni  Nomi propri  Punteggiatura  \\\n",
       "0      658           0       3630          7786         1055           4089   \n",
       "1     1266           0       2858          6584         1163           4013   \n",
       "2      650           0       2740          5620         1021           4135   \n",
       "3      917           0       2794          5327          954           4264   \n",
       "\n",
       "   Interiezioni  Cong. coord.  Cong. sub.  \n",
       "0             0          1445         168  \n",
       "1             0          1543         424  \n",
       "2             0          1196         309  \n",
       "3             0          1378         497  "
      ]
     },
     "execution_count": 6,
     "metadata": {},
     "output_type": "execute_result"
    }
   ],
   "source": [
    "d = []\n",
    "for TEXT_PREFIX, df in dfs_maps.items():\n",
    "  d.append({\n",
    "    'Reviewer': TEXT_PREFIX,\n",
    "    'Altro':                      df[f'{TEXT_PREFIX}_n_other'].sum(),\n",
    "    'Nomi':                       df[f'{TEXT_PREFIX}_n_nouns'].sum(),\n",
    "    'Verbi':                      df[f'{TEXT_PREFIX}_n_verbs'].sum(),\n",
    "    'Numeri':                     df[f'{TEXT_PREFIX}_n_number'].sum(),\n",
    "    'Simboli':                    df[f'{TEXT_PREFIX}_n_symbols'].sum(),\n",
    "    'Avverbi':                    df[f'{TEXT_PREFIX}_n_adverbs'].sum(),\n",
    "    'Articoli':                   df[f'{TEXT_PREFIX}_n_articles'].sum(),\n",
    "    'Pronomi':                    df[f'{TEXT_PREFIX}_n_pronouns'].sum(),\n",
    "    'Particelle':                 df[f'{TEXT_PREFIX}_n_particles'].sum(),\n",
    "    'Aggettivi':                  df[f'{TEXT_PREFIX}_n_adjectives'].sum(),\n",
    "    'Preposizioni':               df[f'{TEXT_PREFIX}_n_prepositions'].sum(),\n",
    "    'Nomi propri':                df[f'{TEXT_PREFIX}_n_proper_nouns'].sum(),\n",
    "    'Punteggiatura':              df[f'{TEXT_PREFIX}_n_punctuations'].sum(),\n",
    "    'Interiezioni':               df[f'{TEXT_PREFIX}_n_interjections'].sum(),\n",
    "    'Cong. coord.':               df[f'{TEXT_PREFIX}_n_coordinating_conjunctions'].sum(),\n",
    "    'Cong. sub.':                 df[f'{TEXT_PREFIX}_n_subordinating_conjunctions'].sum(),\n",
    "  })\n",
    "\n",
    "d = pd.DataFrame(d)\n",
    "d.head(10)"
   ]
  },
  {
   "cell_type": "code",
   "execution_count": 7,
   "metadata": {
    "colab": {
     "base_uri": "https://localhost:8080/",
     "height": 212
    },
    "executionInfo": {
     "elapsed": 1119,
     "status": "ok",
     "timestamp": 1716298859479,
     "user": {
      "displayName": "Marco Russodivito",
      "userId": "05013084347772678948"
     },
     "user_tz": -120
    },
    "id": "KSOZK1msGoys",
    "outputId": "06138883-282b-43c6-bca3-91b6869860da"
   },
   "outputs": [
    {
     "data": {
      "text/html": [
       "<div>\n",
       "<style scoped>\n",
       "    .dataframe tbody tr th:only-of-type {\n",
       "        vertical-align: middle;\n",
       "    }\n",
       "\n",
       "    .dataframe tbody tr th {\n",
       "        vertical-align: top;\n",
       "    }\n",
       "\n",
       "    .dataframe thead th {\n",
       "        text-align: right;\n",
       "    }\n",
       "</style>\n",
       "<table border=\"1\" class=\"dataframe\">\n",
       "  <thead>\n",
       "    <tr style=\"text-align: right;\">\n",
       "      <th></th>\n",
       "      <th>Reviewer</th>\n",
       "      <th>Altro</th>\n",
       "      <th>Nomi</th>\n",
       "      <th>Verbi</th>\n",
       "      <th>Numeri</th>\n",
       "      <th>Simboli</th>\n",
       "      <th>Avverbi</th>\n",
       "      <th>Articoli</th>\n",
       "      <th>Pronomi</th>\n",
       "      <th>Particelle</th>\n",
       "      <th>Aggettivi</th>\n",
       "      <th>Preposizioni</th>\n",
       "      <th>Nomi propri</th>\n",
       "      <th>Punteggiatura</th>\n",
       "      <th>Interiezioni</th>\n",
       "      <th>Congiunguonizi coordinati</th>\n",
       "      <th>Cong. subordiante</th>\n",
       "    </tr>\n",
       "  </thead>\n",
       "  <tbody>\n",
       "    <tr>\n",
       "      <th>0</th>\n",
       "      <td>original</td>\n",
       "      <td>0.069465</td>\n",
       "      <td>27.267627</td>\n",
       "      <td>9.340351</td>\n",
       "      <td>1.974405</td>\n",
       "      <td>0.085495</td>\n",
       "      <td>2.099976</td>\n",
       "      <td>8.851425</td>\n",
       "      <td>1.757995</td>\n",
       "      <td>0.0</td>\n",
       "      <td>9.698362</td>\n",
       "      <td>20.802052</td>\n",
       "      <td>2.818670</td>\n",
       "      <td>10.924684</td>\n",
       "      <td>0.0</td>\n",
       "      <td>3.860643</td>\n",
       "      <td>0.448850</td>\n",
       "    </tr>\n",
       "    <tr>\n",
       "      <th>1</th>\n",
       "      <td>reviewer1</td>\n",
       "      <td>0.057602</td>\n",
       "      <td>24.855340</td>\n",
       "      <td>13.214463</td>\n",
       "      <td>1.997748</td>\n",
       "      <td>0.089022</td>\n",
       "      <td>2.471657</td>\n",
       "      <td>10.575236</td>\n",
       "      <td>3.314744</td>\n",
       "      <td>0.0</td>\n",
       "      <td>7.483047</td>\n",
       "      <td>17.238761</td>\n",
       "      <td>3.045061</td>\n",
       "      <td>10.507161</td>\n",
       "      <td>0.0</td>\n",
       "      <td>4.040007</td>\n",
       "      <td>1.110151</td>\n",
       "    </tr>\n",
       "    <tr>\n",
       "      <th>2</th>\n",
       "      <td>reviewer2</td>\n",
       "      <td>0.064834</td>\n",
       "      <td>26.201633</td>\n",
       "      <td>11.714260</td>\n",
       "      <td>2.083518</td>\n",
       "      <td>0.097250</td>\n",
       "      <td>2.345799</td>\n",
       "      <td>11.310524</td>\n",
       "      <td>1.915539</td>\n",
       "      <td>0.0</td>\n",
       "      <td>8.074736</td>\n",
       "      <td>16.562049</td>\n",
       "      <td>3.008870</td>\n",
       "      <td>12.185778</td>\n",
       "      <td>0.0</td>\n",
       "      <td>3.524593</td>\n",
       "      <td>0.910618</td>\n",
       "    </tr>\n",
       "    <tr>\n",
       "      <th>3</th>\n",
       "      <td>gpt4</td>\n",
       "      <td>0.024988</td>\n",
       "      <td>23.555543</td>\n",
       "      <td>14.276592</td>\n",
       "      <td>2.165644</td>\n",
       "      <td>0.099953</td>\n",
       "      <td>2.873643</td>\n",
       "      <td>12.216453</td>\n",
       "      <td>2.546020</td>\n",
       "      <td>0.0</td>\n",
       "      <td>7.757448</td>\n",
       "      <td>14.790238</td>\n",
       "      <td>2.648749</td>\n",
       "      <td>11.838854</td>\n",
       "      <td>0.0</td>\n",
       "      <td>3.825971</td>\n",
       "      <td>1.379904</td>\n",
       "    </tr>\n",
       "  </tbody>\n",
       "</table>\n",
       "</div>"
      ],
      "text/plain": [
       "    Reviewer     Altro       Nomi      Verbi    Numeri   Simboli   Avverbi  \\\n",
       "0   original  0.069465  27.267627   9.340351  1.974405  0.085495  2.099976   \n",
       "1  reviewer1  0.057602  24.855340  13.214463  1.997748  0.089022  2.471657   \n",
       "2  reviewer2  0.064834  26.201633  11.714260  2.083518  0.097250  2.345799   \n",
       "3       gpt4  0.024988  23.555543  14.276592  2.165644  0.099953  2.873643   \n",
       "\n",
       "    Articoli   Pronomi  Particelle  Aggettivi  Preposizioni  Nomi propri  \\\n",
       "0   8.851425  1.757995         0.0   9.698362     20.802052     2.818670   \n",
       "1  10.575236  3.314744         0.0   7.483047     17.238761     3.045061   \n",
       "2  11.310524  1.915539         0.0   8.074736     16.562049     3.008870   \n",
       "3  12.216453  2.546020         0.0   7.757448     14.790238     2.648749   \n",
       "\n",
       "   Punteggiatura  Interiezioni  Congiunguonizi coordinati  Cong. subordiante  \n",
       "0      10.924684           0.0                   3.860643           0.448850  \n",
       "1      10.507161           0.0                   4.040007           1.110151  \n",
       "2      12.185778           0.0                   3.524593           0.910618  \n",
       "3      11.838854           0.0                   3.825971           1.379904  "
      ]
     },
     "execution_count": 7,
     "metadata": {},
     "output_type": "execute_result"
    }
   ],
   "source": [
    "d = []\n",
    "for TEXT_PREFIX, df in dfs_maps.items():\n",
    "  d.append({\n",
    "    'Reviewer': TEXT_PREFIX,\n",
    "    'Altro':                      df[f'{TEXT_PREFIX}_n_other'].sum() / df[f'{TEXT_PREFIX}_n_tokens_all'].sum() * 100,\n",
    "    'Nomi':                       df[f'{TEXT_PREFIX}_n_nouns'].sum() / df[f'{TEXT_PREFIX}_n_tokens_all'].sum() * 100,\n",
    "    'Verbi':                      df[f'{TEXT_PREFIX}_n_verbs'].sum() / df[f'{TEXT_PREFIX}_n_tokens_all'].sum() * 100,\n",
    "    'Numeri':                     df[f'{TEXT_PREFIX}_n_number'].sum() / df[f'{TEXT_PREFIX}_n_tokens_all'].sum() * 100,\n",
    "    'Simboli':                    df[f'{TEXT_PREFIX}_n_symbols'].sum() / df[f'{TEXT_PREFIX}_n_tokens_all'].sum() * 100,\n",
    "    'Avverbi':                    df[f'{TEXT_PREFIX}_n_adverbs'].sum() / df[f'{TEXT_PREFIX}_n_tokens_all'].sum() * 100,\n",
    "    'Articoli':                   df[f'{TEXT_PREFIX}_n_articles'].sum() / df[f'{TEXT_PREFIX}_n_tokens_all'].sum() * 100,\n",
    "    'Pronomi':                    df[f'{TEXT_PREFIX}_n_pronouns'].sum() / df[f'{TEXT_PREFIX}_n_tokens_all'].sum() * 100,\n",
    "    'Particelle':                 df[f'{TEXT_PREFIX}_n_particles'].sum() / df[f'{TEXT_PREFIX}_n_tokens_all'].sum() * 100,\n",
    "    'Aggettivi':                   df[f'{TEXT_PREFIX}_n_adjectives'].sum() / df[f'{TEXT_PREFIX}_n_tokens_all'].sum() * 100,\n",
    "    'Preposizioni':               df[f'{TEXT_PREFIX}_n_prepositions'].sum() / df[f'{TEXT_PREFIX}_n_tokens_all'].sum() * 100,\n",
    "    'Nomi propri':                df[f'{TEXT_PREFIX}_n_proper_nouns'].sum() / df[f'{TEXT_PREFIX}_n_tokens_all'].sum() * 100,\n",
    "    'Punteggiatura':              df[f'{TEXT_PREFIX}_n_punctuations'].sum() / df[f'{TEXT_PREFIX}_n_tokens_all'].sum() * 100,\n",
    "    'Interiezioni':               df[f'{TEXT_PREFIX}_n_interjections'].sum() / df[f'{TEXT_PREFIX}_n_tokens_all'].sum() * 100,\n",
    "    'Congiunguonizi coordinati':  df[f'{TEXT_PREFIX}_n_coordinating_conjunctions'].sum() / df[f'{TEXT_PREFIX}_n_tokens_all'].sum() * 100,\n",
    "    'Cong. subordiante':          df[f'{TEXT_PREFIX}_n_subordinating_conjunctions'].sum() / df[f'{TEXT_PREFIX}_n_tokens_all'].sum() * 100,\n",
    "  })\n",
    "\n",
    "d = pd.DataFrame(d)\n",
    "d.head(10)"
   ]
  },
  {
   "cell_type": "code",
   "execution_count": 8,
   "metadata": {
    "colab": {
     "base_uri": "https://localhost:8080/",
     "height": 174
    },
    "executionInfo": {
     "elapsed": 515,
     "status": "ok",
     "timestamp": 1716302535522,
     "user": {
      "displayName": "Marco Russodivito",
      "userId": "05013084347772678948"
     },
     "user_tz": -120
    },
    "id": "ioXVkO4Lk9Lx",
    "outputId": "0e64848a-adfe-4685-92ad-753557cc6e72"
   },
   "outputs": [
    {
     "data": {
      "text/html": [
       "<div>\n",
       "<style scoped>\n",
       "    .dataframe tbody tr th:only-of-type {\n",
       "        vertical-align: middle;\n",
       "    }\n",
       "\n",
       "    .dataframe tbody tr th {\n",
       "        vertical-align: top;\n",
       "    }\n",
       "\n",
       "    .dataframe thead th {\n",
       "        text-align: right;\n",
       "    }\n",
       "</style>\n",
       "<table border=\"1\" class=\"dataframe\">\n",
       "  <thead>\n",
       "    <tr style=\"text-align: right;\">\n",
       "      <th></th>\n",
       "      <th>Reviewer</th>\n",
       "      <th>Nomi</th>\n",
       "      <th>Verbi</th>\n",
       "      <th>Aggettivi</th>\n",
       "      <th>Pronomi</th>\n",
       "      <th>Articoli</th>\n",
       "      <th>Avverbi</th>\n",
       "      <th>Preposizioni</th>\n",
       "      <th>Cong.</th>\n",
       "    </tr>\n",
       "  </thead>\n",
       "  <tbody>\n",
       "    <tr>\n",
       "      <th>0</th>\n",
       "      <td>original</td>\n",
       "      <td>32.412348</td>\n",
       "      <td>11.102642</td>\n",
       "      <td>11.528201</td>\n",
       "      <td>2.089685</td>\n",
       "      <td>10.521468</td>\n",
       "      <td>2.496189</td>\n",
       "      <td>24.726880</td>\n",
       "      <td>5.122586</td>\n",
       "    </tr>\n",
       "    <tr>\n",
       "      <th>1</th>\n",
       "      <td>reviewer1</td>\n",
       "      <td>29.483198</td>\n",
       "      <td>15.674887</td>\n",
       "      <td>8.876328</td>\n",
       "      <td>3.931921</td>\n",
       "      <td>12.544257</td>\n",
       "      <td>2.931859</td>\n",
       "      <td>20.448475</td>\n",
       "      <td>6.109075</td>\n",
       "    </tr>\n",
       "    <tr>\n",
       "      <th>2</th>\n",
       "      <td>reviewer2</td>\n",
       "      <td>31.736570</td>\n",
       "      <td>14.188827</td>\n",
       "      <td>9.780475</td>\n",
       "      <td>2.320186</td>\n",
       "      <td>13.699804</td>\n",
       "      <td>2.841335</td>\n",
       "      <td>20.060682</td>\n",
       "      <td>5.372122</td>\n",
       "    </tr>\n",
       "    <tr>\n",
       "      <th>3</th>\n",
       "      <td>gpt4</td>\n",
       "      <td>28.304531</td>\n",
       "      <td>17.154868</td>\n",
       "      <td>9.321412</td>\n",
       "      <td>3.059318</td>\n",
       "      <td>14.679389</td>\n",
       "      <td>3.452993</td>\n",
       "      <td>17.772069</td>\n",
       "      <td>6.255421</td>\n",
       "    </tr>\n",
       "  </tbody>\n",
       "</table>\n",
       "</div>"
      ],
      "text/plain": [
       "    Reviewer       Nomi      Verbi  Aggettivi   Pronomi   Articoli   Avverbi  \\\n",
       "0   original  32.412348  11.102642  11.528201  2.089685  10.521468  2.496189   \n",
       "1  reviewer1  29.483198  15.674887   8.876328  3.931921  12.544257  2.931859   \n",
       "2  reviewer2  31.736570  14.188827   9.780475  2.320186  13.699804  2.841335   \n",
       "3       gpt4  28.304531  17.154868   9.321412  3.059318  14.679389  3.452993   \n",
       "\n",
       "   Preposizioni     Cong.  \n",
       "0     24.726880  5.122586  \n",
       "1     20.448475  6.109075  \n",
       "2     20.060682  5.372122  \n",
       "3     17.772069  6.255421  "
      ]
     },
     "execution_count": 8,
     "metadata": {},
     "output_type": "execute_result"
    }
   ],
   "source": [
    "d = []\n",
    "for TEXT_PREFIX, df in dfs_maps.items():\n",
    "  t =   df[f'{TEXT_PREFIX}_n_nouns'].sum() + \\\n",
    "        df[f'{TEXT_PREFIX}_n_verbs'].sum() + \\\n",
    "        df[f'{TEXT_PREFIX}_n_adjectives'].sum() + \\\n",
    "        df[f'{TEXT_PREFIX}_n_pronouns'].sum() + \\\n",
    "        df[f'{TEXT_PREFIX}_n_articles'].sum() + \\\n",
    "        df[f'{TEXT_PREFIX}_n_adverbs'].sum() + \\\n",
    "        df[f'{TEXT_PREFIX}_n_prepositions'].sum() + \\\n",
    "        df[f'{TEXT_PREFIX}_n_coordinating_conjunctions'].sum() + \\\n",
    "        df[f'{TEXT_PREFIX}_n_subordinating_conjunctions'].sum()\n",
    "  d.append({\n",
    "    'Reviewer': TEXT_PREFIX,\n",
    "    'Nomi':                       df[f'{TEXT_PREFIX}_n_nouns'].sum() / t * 100,\n",
    "    'Verbi':                      df[f'{TEXT_PREFIX}_n_verbs'].sum() / t * 100,\n",
    "    'Aggettivi':                  df[f'{TEXT_PREFIX}_n_adjectives'].sum() / t * 100,\n",
    "    'Pronomi':                    df[f'{TEXT_PREFIX}_n_pronouns'].sum() / t * 100,\n",
    "    'Articoli':                   df[f'{TEXT_PREFIX}_n_articles'].sum() / t * 100,\n",
    "    'Avverbi':                    df[f'{TEXT_PREFIX}_n_adverbs'].sum() / t * 100,\n",
    "    'Preposizioni':               df[f'{TEXT_PREFIX}_n_prepositions'].sum() / t * 100,\n",
    "    'Cong.':                      (df[f'{TEXT_PREFIX}_n_coordinating_conjunctions'].sum() + df[f'{TEXT_PREFIX}_n_subordinating_conjunctions'].sum()) / t * 100\n",
    "  })\n",
    "\n",
    "d = pd.DataFrame(d)\n",
    "d.head(10)"
   ]
  },
  {
   "cell_type": "markdown",
   "metadata": {
    "id": "zEHvIUhxHAEM"
   },
   "source": [
    "# Verbs"
   ]
  },
  {
   "cell_type": "code",
   "execution_count": 9,
   "metadata": {
    "colab": {
     "base_uri": "https://localhost:8080/",
     "height": 174
    },
    "executionInfo": {
     "elapsed": 11,
     "status": "ok",
     "timestamp": 1716297978236,
     "user": {
      "displayName": "Marco Russodivito",
      "userId": "05013084347772678948"
     },
     "user_tz": -120
    },
    "id": "GwEt4oRaHBtu",
    "outputId": "3d284b65-da49-40f6-e37f-42be9c7bd129"
   },
   "outputs": [
    {
     "data": {
      "text/html": [
       "<div>\n",
       "<style scoped>\n",
       "    .dataframe tbody tr th:only-of-type {\n",
       "        vertical-align: middle;\n",
       "    }\n",
       "\n",
       "    .dataframe tbody tr th {\n",
       "        vertical-align: top;\n",
       "    }\n",
       "\n",
       "    .dataframe thead th {\n",
       "        text-align: right;\n",
       "    }\n",
       "</style>\n",
       "<table border=\"1\" class=\"dataframe\">\n",
       "  <thead>\n",
       "    <tr style=\"text-align: right;\">\n",
       "      <th></th>\n",
       "      <th>Reviewer</th>\n",
       "      <th>Verbi attivi</th>\n",
       "      <th>Verbi passivi</th>\n",
       "    </tr>\n",
       "  </thead>\n",
       "  <tbody>\n",
       "    <tr>\n",
       "      <th>0</th>\n",
       "      <td>original</td>\n",
       "      <td>2684</td>\n",
       "      <td>812</td>\n",
       "    </tr>\n",
       "    <tr>\n",
       "      <th>1</th>\n",
       "      <td>reviewer1</td>\n",
       "      <td>4124</td>\n",
       "      <td>923</td>\n",
       "    </tr>\n",
       "    <tr>\n",
       "      <th>2</th>\n",
       "      <td>reviewer2</td>\n",
       "      <td>3184</td>\n",
       "      <td>791</td>\n",
       "    </tr>\n",
       "    <tr>\n",
       "      <th>3</th>\n",
       "      <td>gpt4</td>\n",
       "      <td>4450</td>\n",
       "      <td>692</td>\n",
       "    </tr>\n",
       "  </tbody>\n",
       "</table>\n",
       "</div>"
      ],
      "text/plain": [
       "    Reviewer  Verbi attivi  Verbi passivi\n",
       "0   original          2684            812\n",
       "1  reviewer1          4124            923\n",
       "2  reviewer2          3184            791\n",
       "3       gpt4          4450            692"
      ]
     },
     "execution_count": 9,
     "metadata": {},
     "output_type": "execute_result"
    }
   ],
   "source": [
    "d = []\n",
    "for TEXT_PREFIX, df in dfs_maps.items():\n",
    "  d.append({\n",
    "    'Reviewer': TEXT_PREFIX,\n",
    "    'Verbi attivi': df[f'{TEXT_PREFIX}_n_active_verbs'].sum(),\n",
    "    'Verbi passivi':  df[f'{TEXT_PREFIX}_n_passive_verbs'].sum()\n",
    "  })\n",
    "\n",
    "d = pd.DataFrame(d)\n",
    "d.head(10)"
   ]
  },
  {
   "cell_type": "code",
   "execution_count": 10,
   "metadata": {
    "colab": {
     "base_uri": "https://localhost:8080/",
     "height": 174
    },
    "executionInfo": {
     "elapsed": 10,
     "status": "ok",
     "timestamp": 1716297978236,
     "user": {
      "displayName": "Marco Russodivito",
      "userId": "05013084347772678948"
     },
     "user_tz": -120
    },
    "id": "ES1RF9TkHIh2",
    "outputId": "76a3a0a5-5aac-4c94-e816-1ecf87ec2ae6"
   },
   "outputs": [
    {
     "data": {
      "text/html": [
       "<div>\n",
       "<style scoped>\n",
       "    .dataframe tbody tr th:only-of-type {\n",
       "        vertical-align: middle;\n",
       "    }\n",
       "\n",
       "    .dataframe tbody tr th {\n",
       "        vertical-align: top;\n",
       "    }\n",
       "\n",
       "    .dataframe thead th {\n",
       "        text-align: right;\n",
       "    }\n",
       "</style>\n",
       "<table border=\"1\" class=\"dataframe\">\n",
       "  <thead>\n",
       "    <tr style=\"text-align: right;\">\n",
       "      <th></th>\n",
       "      <th>Reviewer</th>\n",
       "      <th>Verbi attivi</th>\n",
       "      <th>Verbi passivi</th>\n",
       "    </tr>\n",
       "  </thead>\n",
       "  <tbody>\n",
       "    <tr>\n",
       "      <th>0</th>\n",
       "      <td>original</td>\n",
       "      <td>76.773455</td>\n",
       "      <td>23.226545</td>\n",
       "    </tr>\n",
       "    <tr>\n",
       "      <th>1</th>\n",
       "      <td>reviewer1</td>\n",
       "      <td>81.711908</td>\n",
       "      <td>18.288092</td>\n",
       "    </tr>\n",
       "    <tr>\n",
       "      <th>2</th>\n",
       "      <td>reviewer2</td>\n",
       "      <td>80.100629</td>\n",
       "      <td>19.899371</td>\n",
       "    </tr>\n",
       "    <tr>\n",
       "      <th>3</th>\n",
       "      <td>gpt4</td>\n",
       "      <td>86.542201</td>\n",
       "      <td>13.457799</td>\n",
       "    </tr>\n",
       "  </tbody>\n",
       "</table>\n",
       "</div>"
      ],
      "text/plain": [
       "    Reviewer  Verbi attivi  Verbi passivi\n",
       "0   original     76.773455      23.226545\n",
       "1  reviewer1     81.711908      18.288092\n",
       "2  reviewer2     80.100629      19.899371\n",
       "3       gpt4     86.542201      13.457799"
      ]
     },
     "execution_count": 10,
     "metadata": {},
     "output_type": "execute_result"
    }
   ],
   "source": [
    "d = []\n",
    "for TEXT_PREFIX, df in dfs_maps.items():\n",
    "  d.append({\n",
    "    'Reviewer': TEXT_PREFIX,\n",
    "    'Verbi attivi': df[f'{TEXT_PREFIX}_n_active_verbs'].sum() / df[f'{TEXT_PREFIX}_n_verbs'].sum() * 100,\n",
    "    'Verbi passivi':  df[f'{TEXT_PREFIX}_n_passive_verbs'].sum() / df[f'{TEXT_PREFIX}_n_verbs'].sum() * 100,\n",
    "  })\n",
    "\n",
    "d = pd.DataFrame(d)\n",
    "d.head(10)"
   ]
  },
  {
   "cell_type": "markdown",
   "metadata": {
    "id": "dmcuSCTMHJzV"
   },
   "source": [
    "# VdB"
   ]
  },
  {
   "cell_type": "code",
   "execution_count": 11,
   "metadata": {
    "colab": {
     "base_uri": "https://localhost:8080/",
     "height": 174
    },
    "executionInfo": {
     "elapsed": 11,
     "status": "ok",
     "timestamp": 1716297978237,
     "user": {
      "displayName": "Marco Russodivito",
      "userId": "05013084347772678948"
     },
     "user_tz": -120
    },
    "id": "h7aopKFCHKqx",
    "outputId": "9419a3fa-4fed-4c12-adda-f4449c7953fa"
   },
   "outputs": [
    {
     "data": {
      "text/html": [
       "<div>\n",
       "<style scoped>\n",
       "    .dataframe tbody tr th:only-of-type {\n",
       "        vertical-align: middle;\n",
       "    }\n",
       "\n",
       "    .dataframe tbody tr th {\n",
       "        vertical-align: top;\n",
       "    }\n",
       "\n",
       "    .dataframe thead th {\n",
       "        text-align: right;\n",
       "    }\n",
       "</style>\n",
       "<table border=\"1\" class=\"dataframe\">\n",
       "  <thead>\n",
       "    <tr style=\"text-align: right;\">\n",
       "      <th></th>\n",
       "      <th>Reviewer</th>\n",
       "      <th>ALL</th>\n",
       "      <th>FO</th>\n",
       "      <th>AU</th>\n",
       "      <th>AD</th>\n",
       "    </tr>\n",
       "  </thead>\n",
       "  <tbody>\n",
       "    <tr>\n",
       "      <th>0</th>\n",
       "      <td>original</td>\n",
       "      <td>24185</td>\n",
       "      <td>20113</td>\n",
       "      <td>4205</td>\n",
       "      <td>3823</td>\n",
       "    </tr>\n",
       "    <tr>\n",
       "      <th>1</th>\n",
       "      <td>reviewer1</td>\n",
       "      <td>27155</td>\n",
       "      <td>24097</td>\n",
       "      <td>3174</td>\n",
       "      <td>3553</td>\n",
       "    </tr>\n",
       "    <tr>\n",
       "      <th>2</th>\n",
       "      <td>reviewer2</td>\n",
       "      <td>22780</td>\n",
       "      <td>19561</td>\n",
       "      <td>3196</td>\n",
       "      <td>2794</td>\n",
       "    </tr>\n",
       "    <tr>\n",
       "      <th>3</th>\n",
       "      <td>gpt4</td>\n",
       "      <td>25513</td>\n",
       "      <td>22549</td>\n",
       "      <td>2987</td>\n",
       "      <td>2931</td>\n",
       "    </tr>\n",
       "  </tbody>\n",
       "</table>\n",
       "</div>"
      ],
      "text/plain": [
       "    Reviewer    ALL     FO    AU    AD\n",
       "0   original  24185  20113  4205  3823\n",
       "1  reviewer1  27155  24097  3174  3553\n",
       "2  reviewer2  22780  19561  3196  2794\n",
       "3       gpt4  25513  22549  2987  2931"
      ]
     },
     "execution_count": 11,
     "metadata": {},
     "output_type": "execute_result"
    }
   ],
   "source": [
    "d = []\n",
    "for TEXT_PREFIX, df in dfs_maps.items():\n",
    "  d.append({\n",
    "    'Reviewer': TEXT_PREFIX,\n",
    "    'ALL': df[f'{TEXT_PREFIX}_n_vdb'].sum(),\n",
    "    'FO':  df[f'{TEXT_PREFIX}_n_vdb_fo'].sum(),\n",
    "    'AU': df[f'{TEXT_PREFIX}_n_vdb_au'].sum(),\n",
    "    'AD': df[f'{TEXT_PREFIX}_n_vdb_ad'].sum(),\n",
    "  })\n",
    "\n",
    "d = pd.DataFrame(d)\n",
    "d.head(10)"
   ]
  },
  {
   "cell_type": "code",
   "execution_count": 12,
   "metadata": {
    "colab": {
     "base_uri": "https://localhost:8080/",
     "height": 174
    },
    "executionInfo": {
     "elapsed": 10,
     "status": "ok",
     "timestamp": 1716297978237,
     "user": {
      "displayName": "Marco Russodivito",
      "userId": "05013084347772678948"
     },
     "user_tz": -120
    },
    "id": "W8ged8b4HMJi",
    "outputId": "77df0f37-7847-4a18-ca83-a966edbfd3ab"
   },
   "outputs": [
    {
     "data": {
      "text/html": [
       "<div>\n",
       "<style scoped>\n",
       "    .dataframe tbody tr th:only-of-type {\n",
       "        vertical-align: middle;\n",
       "    }\n",
       "\n",
       "    .dataframe tbody tr th {\n",
       "        vertical-align: top;\n",
       "    }\n",
       "\n",
       "    .dataframe thead th {\n",
       "        text-align: right;\n",
       "    }\n",
       "</style>\n",
       "<table border=\"1\" class=\"dataframe\">\n",
       "  <thead>\n",
       "    <tr style=\"text-align: right;\">\n",
       "      <th></th>\n",
       "      <th>Reviewer</th>\n",
       "      <th>ALL</th>\n",
       "      <th>FO</th>\n",
       "      <th>AU</th>\n",
       "      <th>AD</th>\n",
       "    </tr>\n",
       "  </thead>\n",
       "  <tbody>\n",
       "    <tr>\n",
       "      <th>0</th>\n",
       "      <td>original</td>\n",
       "      <td>72.638534</td>\n",
       "      <td>60.408470</td>\n",
       "      <td>12.629524</td>\n",
       "      <td>11.482205</td>\n",
       "    </tr>\n",
       "    <tr>\n",
       "      <th>1</th>\n",
       "      <td>reviewer1</td>\n",
       "      <td>79.551780</td>\n",
       "      <td>70.593233</td>\n",
       "      <td>9.298374</td>\n",
       "      <td>10.408671</td>\n",
       "    </tr>\n",
       "    <tr>\n",
       "      <th>2</th>\n",
       "      <td>reviewer2</td>\n",
       "      <td>76.558562</td>\n",
       "      <td>65.740212</td>\n",
       "      <td>10.741052</td>\n",
       "      <td>9.390018</td>\n",
       "    </tr>\n",
       "    <tr>\n",
       "      <th>3</th>\n",
       "      <td>gpt4</td>\n",
       "      <td>80.426833</td>\n",
       "      <td>71.083160</td>\n",
       "      <td>9.416178</td>\n",
       "      <td>9.239644</td>\n",
       "    </tr>\n",
       "  </tbody>\n",
       "</table>\n",
       "</div>"
      ],
      "text/plain": [
       "    Reviewer        ALL         FO         AU         AD\n",
       "0   original  72.638534  60.408470  12.629524  11.482205\n",
       "1  reviewer1  79.551780  70.593233   9.298374  10.408671\n",
       "2  reviewer2  76.558562  65.740212  10.741052   9.390018\n",
       "3       gpt4  80.426833  71.083160   9.416178   9.239644"
      ]
     },
     "execution_count": 12,
     "metadata": {},
     "output_type": "execute_result"
    }
   ],
   "source": [
    "d = []\n",
    "for TEXT_PREFIX, df in dfs_maps.items():\n",
    "  d.append({\n",
    "    'Reviewer': TEXT_PREFIX,\n",
    "    'ALL': df[f'{TEXT_PREFIX}_n_vdb'].sum() / df[f'{TEXT_PREFIX}_n_tokens'].sum() * 100,\n",
    "    'FO':  df[f'{TEXT_PREFIX}_n_vdb_fo'].sum() / df[f'{TEXT_PREFIX}_n_tokens'].sum() * 100,\n",
    "    'AU': df[f'{TEXT_PREFIX}_n_vdb_au'].sum() / df[f'{TEXT_PREFIX}_n_tokens'].sum() * 100,\n",
    "    'AD': df[f'{TEXT_PREFIX}_n_vdb_ad'].sum() / df[f'{TEXT_PREFIX}_n_tokens'].sum() * 100,\n",
    "  })\n",
    "\n",
    "d = pd.DataFrame(d)\n",
    "d.head(10)"
   ]
  },
  {
   "cell_type": "markdown",
   "metadata": {
    "id": "mCUqH3vwHNwN"
   },
   "source": [
    "# Readability"
   ]
  },
  {
   "cell_type": "code",
   "execution_count": 13,
   "metadata": {
    "colab": {
     "base_uri": "https://localhost:8080/",
     "height": 174
    },
    "executionInfo": {
     "elapsed": 9,
     "status": "ok",
     "timestamp": 1716297978237,
     "user": {
      "displayName": "Marco Russodivito",
      "userId": "05013084347772678948"
     },
     "user_tz": -120
    },
    "id": "9jLHVsTVHNZu",
    "outputId": "5916a106-96df-4e24-b4c3-3b39f5989e13"
   },
   "outputs": [
    {
     "data": {
      "text/html": [
       "<div>\n",
       "<style scoped>\n",
       "    .dataframe tbody tr th:only-of-type {\n",
       "        vertical-align: middle;\n",
       "    }\n",
       "\n",
       "    .dataframe tbody tr th {\n",
       "        vertical-align: top;\n",
       "    }\n",
       "\n",
       "    .dataframe thead th {\n",
       "        text-align: right;\n",
       "    }\n",
       "</style>\n",
       "<table border=\"1\" class=\"dataframe\">\n",
       "  <thead>\n",
       "    <tr style=\"text-align: right;\">\n",
       "      <th></th>\n",
       "      <th>Reviewer</th>\n",
       "      <th>ttr</th>\n",
       "      <th>gulpease_index</th>\n",
       "      <th>flesch_vacca</th>\n",
       "      <th>lexical_density</th>\n",
       "    </tr>\n",
       "  </thead>\n",
       "  <tbody>\n",
       "    <tr>\n",
       "      <th>0</th>\n",
       "      <td>original</td>\n",
       "      <td>86.15</td>\n",
       "      <td>44.31</td>\n",
       "      <td>19.97</td>\n",
       "      <td>0.55</td>\n",
       "    </tr>\n",
       "    <tr>\n",
       "      <th>1</th>\n",
       "      <td>reviewer1</td>\n",
       "      <td>84.56</td>\n",
       "      <td>49.72</td>\n",
       "      <td>34.23</td>\n",
       "      <td>0.54</td>\n",
       "    </tr>\n",
       "    <tr>\n",
       "      <th>2</th>\n",
       "      <td>reviewer2</td>\n",
       "      <td>86.30</td>\n",
       "      <td>50.64</td>\n",
       "      <td>33.63</td>\n",
       "      <td>0.56</td>\n",
       "    </tr>\n",
       "    <tr>\n",
       "      <th>3</th>\n",
       "      <td>gpt4</td>\n",
       "      <td>86.64</td>\n",
       "      <td>51.34</td>\n",
       "      <td>36.75</td>\n",
       "      <td>0.56</td>\n",
       "    </tr>\n",
       "  </tbody>\n",
       "</table>\n",
       "</div>"
      ],
      "text/plain": [
       "    Reviewer    ttr  gulpease_index  flesch_vacca  lexical_density\n",
       "0   original  86.15           44.31         19.97             0.55\n",
       "1  reviewer1  84.56           49.72         34.23             0.54\n",
       "2  reviewer2  86.30           50.64         33.63             0.56\n",
       "3       gpt4  86.64           51.34         36.75             0.56"
      ]
     },
     "execution_count": 13,
     "metadata": {},
     "output_type": "execute_result"
    }
   ],
   "source": [
    "d = []\n",
    "for TEXT_PREFIX, df in dfs_maps.items():\n",
    "  d.append({\n",
    "    'Reviewer': TEXT_PREFIX,\n",
    "    'ttr': round(df[f'{TEXT_PREFIX}_ttr'].mean(), 2),\n",
    "    'gulpease_index': round(df[f'{TEXT_PREFIX}_gulpease'].mean(), 2),\n",
    "    'flesch_vacca': round(df[f'{TEXT_PREFIX}_flesch_vacca'].mean(), 2),\n",
    "    'lexical_density': round(df[f'{TEXT_PREFIX}_lexical_density'].mean(), 2)\n",
    "  })\n",
    "\n",
    "d = pd.DataFrame(d)\n",
    "d.head(10)"
   ]
  },
  {
   "cell_type": "markdown",
   "metadata": {
    "id": "sdIi-0-iHQRb"
   },
   "source": [
    "# Similarity"
   ]
  },
  {
   "cell_type": "code",
   "execution_count": 14,
   "metadata": {
    "colab": {
     "base_uri": "https://localhost:8080/",
     "height": 143
    },
    "executionInfo": {
     "elapsed": 9,
     "status": "ok",
     "timestamp": 1716297978237,
     "user": {
      "displayName": "Marco Russodivito",
      "userId": "05013084347772678948"
     },
     "user_tz": -120
    },
    "id": "2nb0QKHwHXM0",
    "outputId": "176d9d91-fbac-402a-c08a-fa7ec7edfa58"
   },
   "outputs": [
    {
     "data": {
      "text/html": [
       "<div>\n",
       "<style scoped>\n",
       "    .dataframe tbody tr th:only-of-type {\n",
       "        vertical-align: middle;\n",
       "    }\n",
       "\n",
       "    .dataframe tbody tr th {\n",
       "        vertical-align: top;\n",
       "    }\n",
       "\n",
       "    .dataframe thead th {\n",
       "        text-align: right;\n",
       "    }\n",
       "</style>\n",
       "<table border=\"1\" class=\"dataframe\">\n",
       "  <thead>\n",
       "    <tr style=\"text-align: right;\">\n",
       "      <th></th>\n",
       "      <th>Reviewer</th>\n",
       "      <th>semantic_similarity</th>\n",
       "    </tr>\n",
       "  </thead>\n",
       "  <tbody>\n",
       "    <tr>\n",
       "      <th>0</th>\n",
       "      <td>Original vs reviewer1</td>\n",
       "      <td>83.91</td>\n",
       "    </tr>\n",
       "    <tr>\n",
       "      <th>1</th>\n",
       "      <td>Original vs reviewer2</td>\n",
       "      <td>87.87</td>\n",
       "    </tr>\n",
       "    <tr>\n",
       "      <th>2</th>\n",
       "      <td>Original vs gpt4</td>\n",
       "      <td>80.02</td>\n",
       "    </tr>\n",
       "  </tbody>\n",
       "</table>\n",
       "</div>"
      ],
      "text/plain": [
       "                Reviewer  semantic_similarity\n",
       "0  Original vs reviewer1                83.91\n",
       "1  Original vs reviewer2                87.87\n",
       "2       Original vs gpt4                80.02"
      ]
     },
     "execution_count": 14,
     "metadata": {},
     "output_type": "execute_result"
    }
   ],
   "source": [
    "d = []\n",
    "for TEXT_PREFIX, df in dfs_maps.items():\n",
    "  if TEXT_PREFIX == 'original':\n",
    "    continue\n",
    "  d.append({\n",
    "    'Reviewer': f'Original vs {TEXT_PREFIX}',\n",
    "    'semantic_similarity': round(df[f'{TEXT_PREFIX}_semantic_similarity'].mean(), 2)\n",
    "  })\n",
    "\n",
    "d = pd.DataFrame(d)\n",
    "d.head(10)"
   ]
  },
  {
   "cell_type": "markdown",
   "metadata": {
    "id": "5A1WtP1yHZUG"
   },
   "source": [
    "# Diff"
   ]
  },
  {
   "cell_type": "code",
   "execution_count": 15,
   "metadata": {
    "colab": {
     "base_uri": "https://localhost:8080/",
     "height": 250
    },
    "executionInfo": {
     "elapsed": 434,
     "status": "ok",
     "timestamp": 1716297978663,
     "user": {
      "displayName": "Marco Russodivito",
      "userId": "05013084347772678948"
     },
     "user_tz": -120
    },
    "id": "hw4-AYV1Ha17",
    "outputId": "0a6c5c90-9bca-40d0-9e65-8b969f54bd06"
   },
   "outputs": [
    {
     "data": {
      "text/html": [
       "<div>\n",
       "<style scoped>\n",
       "    .dataframe tbody tr th:only-of-type {\n",
       "        vertical-align: middle;\n",
       "    }\n",
       "\n",
       "    .dataframe tbody tr th {\n",
       "        vertical-align: top;\n",
       "    }\n",
       "\n",
       "    .dataframe thead th {\n",
       "        text-align: right;\n",
       "    }\n",
       "</style>\n",
       "<table border=\"1\" class=\"dataframe\">\n",
       "  <thead>\n",
       "    <tr style=\"text-align: right;\">\n",
       "      <th></th>\n",
       "      <th>Reviewer</th>\n",
       "      <th>editdistance</th>\n",
       "      <th>added_tokens</th>\n",
       "      <th>added_vdb_tokens</th>\n",
       "      <th>%_added_vdb_tokens</th>\n",
       "      <th>deleted_tokens</th>\n",
       "      <th>deleted_vdb_tokens</th>\n",
       "      <th>%_deleted_vdb_tokens</th>\n",
       "    </tr>\n",
       "  </thead>\n",
       "  <tbody>\n",
       "    <tr>\n",
       "      <th>0</th>\n",
       "      <td>Original vs reviewer1</td>\n",
       "      <td>67468</td>\n",
       "      <td>10256</td>\n",
       "      <td>9044</td>\n",
       "      <td>88.18</td>\n",
       "      <td>9838</td>\n",
       "      <td>6629</td>\n",
       "      <td>67.38</td>\n",
       "    </tr>\n",
       "    <tr>\n",
       "      <th>1</th>\n",
       "      <td>Original vs reviewer2</td>\n",
       "      <td>63642</td>\n",
       "      <td>6627</td>\n",
       "      <td>5776</td>\n",
       "      <td>87.16</td>\n",
       "      <td>9552</td>\n",
       "      <td>6778</td>\n",
       "      <td>70.96</td>\n",
       "    </tr>\n",
       "    <tr>\n",
       "      <th>2</th>\n",
       "      <td>Original vs gpt4</td>\n",
       "      <td>105741</td>\n",
       "      <td>13788</td>\n",
       "      <td>11952</td>\n",
       "      <td>86.68</td>\n",
       "      <td>14864</td>\n",
       "      <td>10456</td>\n",
       "      <td>70.34</td>\n",
       "    </tr>\n",
       "  </tbody>\n",
       "</table>\n",
       "</div>"
      ],
      "text/plain": [
       "                Reviewer  editdistance  added_tokens  added_vdb_tokens  \\\n",
       "0  Original vs reviewer1         67468         10256              9044   \n",
       "1  Original vs reviewer2         63642          6627              5776   \n",
       "2       Original vs gpt4        105741         13788             11952   \n",
       "\n",
       "   %_added_vdb_tokens  deleted_tokens  deleted_vdb_tokens  \\\n",
       "0               88.18            9838                6629   \n",
       "1               87.16            9552                6778   \n",
       "2               86.68           14864               10456   \n",
       "\n",
       "   %_deleted_vdb_tokens  \n",
       "0                 67.38  \n",
       "1                 70.96  \n",
       "2                 70.34  "
      ]
     },
     "execution_count": 15,
     "metadata": {},
     "output_type": "execute_result"
    }
   ],
   "source": [
    "d = []\n",
    "for TEXT_PREFIX, df in dfs_maps.items():\n",
    "  if TEXT_PREFIX == 'original':\n",
    "    continue\n",
    "  d.append({\n",
    "    'Reviewer': f'Original vs {TEXT_PREFIX}',\n",
    "    'editdistance': df[f'{TEXT_PREFIX}_editdistance'].sum(),\n",
    "    'added_tokens': df[f'{TEXT_PREFIX}_n_added_tokens'].sum(),\n",
    "    'added_vdb_tokens': df[f'{TEXT_PREFIX}_n_added_vdb_tokens'].sum(),\n",
    "    '%_added_vdb_tokens': round(df[f'{TEXT_PREFIX}_n_added_vdb_tokens'].sum() / df[f'{TEXT_PREFIX}_n_added_tokens'].sum() * 100, 2),\n",
    "    'deleted_tokens': df[f'{TEXT_PREFIX}_n_deleted_tokens'].sum(),\n",
    "    'deleted_vdb_tokens': df[f'{TEXT_PREFIX}_n_deleted_vdb_tokens'].sum(),\n",
    "    '%_deleted_vdb_tokens': round(df[f'{TEXT_PREFIX}_n_deleted_vdb_tokens'].sum() / df[f'{TEXT_PREFIX}_n_deleted_tokens'].sum() * 100, 2),\n",
    "  })\n",
    "\n",
    "d = pd.DataFrame(d)\n",
    "d.head(10)"
   ]
  },
  {
   "cell_type": "code",
   "execution_count": 16,
   "metadata": {
    "colab": {
     "base_uri": "https://localhost:8080/",
     "height": 143
    },
    "executionInfo": {
     "elapsed": 6,
     "status": "ok",
     "timestamp": 1716297978663,
     "user": {
      "displayName": "Marco Russodivito",
      "userId": "05013084347772678948"
     },
     "user_tz": -120
    },
    "id": "TpCeQGHRHdnr",
    "outputId": "bea971ec-8391-4ac9-fc4f-a4b7b58fd092"
   },
   "outputs": [
    {
     "data": {
      "text/html": [
       "<div>\n",
       "<style scoped>\n",
       "    .dataframe tbody tr th:only-of-type {\n",
       "        vertical-align: middle;\n",
       "    }\n",
       "\n",
       "    .dataframe tbody tr th {\n",
       "        vertical-align: top;\n",
       "    }\n",
       "\n",
       "    .dataframe thead th {\n",
       "        text-align: right;\n",
       "    }\n",
       "</style>\n",
       "<table border=\"1\" class=\"dataframe\">\n",
       "  <thead>\n",
       "    <tr style=\"text-align: right;\">\n",
       "      <th></th>\n",
       "      <th>Reviewer</th>\n",
       "      <th>editdistance</th>\n",
       "      <th>added_tokens</th>\n",
       "      <th>added_vdb_tokens</th>\n",
       "      <th>deleted_tokens</th>\n",
       "      <th>deleted_vdb_tokens</th>\n",
       "    </tr>\n",
       "  </thead>\n",
       "  <tbody>\n",
       "    <tr>\n",
       "      <th>0</th>\n",
       "      <td>Original vs reviewer1</td>\n",
       "      <td>37.10</td>\n",
       "      <td>30.05</td>\n",
       "      <td>26.49</td>\n",
       "      <td>28.82</td>\n",
       "      <td>19.42</td>\n",
       "    </tr>\n",
       "    <tr>\n",
       "      <th>1</th>\n",
       "      <td>Original vs reviewer2</td>\n",
       "      <td>38.23</td>\n",
       "      <td>22.27</td>\n",
       "      <td>19.41</td>\n",
       "      <td>32.10</td>\n",
       "      <td>22.78</td>\n",
       "    </tr>\n",
       "    <tr>\n",
       "      <th>2</th>\n",
       "      <td>Original vs gpt4</td>\n",
       "      <td>60.37</td>\n",
       "      <td>43.47</td>\n",
       "      <td>37.68</td>\n",
       "      <td>46.86</td>\n",
       "      <td>32.96</td>\n",
       "    </tr>\n",
       "  </tbody>\n",
       "</table>\n",
       "</div>"
      ],
      "text/plain": [
       "                Reviewer  editdistance  added_tokens  added_vdb_tokens  \\\n",
       "0  Original vs reviewer1         37.10         30.05             26.49   \n",
       "1  Original vs reviewer2         38.23         22.27             19.41   \n",
       "2       Original vs gpt4         60.37         43.47             37.68   \n",
       "\n",
       "   deleted_tokens  deleted_vdb_tokens  \n",
       "0           28.82               19.42  \n",
       "1           32.10               22.78  \n",
       "2           46.86               32.96  "
      ]
     },
     "execution_count": 16,
     "metadata": {},
     "output_type": "execute_result"
    }
   ],
   "source": [
    "d = []\n",
    "for TEXT_PREFIX, df in dfs_maps.items():\n",
    "  if TEXT_PREFIX == 'original':\n",
    "    continue\n",
    "  d.append({\n",
    "    'Reviewer': f'Original vs {TEXT_PREFIX}',\n",
    "    'editdistance': round(df[f'{TEXT_PREFIX}_editdistance'].sum() /  df[f'{TEXT_PREFIX}_n_chars'].sum() * 100, 2),\n",
    "    'added_tokens': round(df[f'{TEXT_PREFIX}_n_added_tokens'].sum() /  df[f'{TEXT_PREFIX}_n_tokens'].sum() * 100, 2),\n",
    "    'added_vdb_tokens': round(df[f'{TEXT_PREFIX}_n_added_vdb_tokens'].sum() /  df[f'{TEXT_PREFIX}_n_tokens'].sum() * 100, 2),\n",
    "    'deleted_tokens': round(df[f'{TEXT_PREFIX}_n_deleted_tokens'].sum() /  df[f'{TEXT_PREFIX}_n_tokens'].sum() * 100, 2),\n",
    "    'deleted_vdb_tokens': round(df[f'{TEXT_PREFIX}_n_deleted_vdb_tokens'].sum() /  df[f'{TEXT_PREFIX}_n_tokens'].sum() * 100, 2),\n",
    "  })\n",
    "\n",
    "d = pd.DataFrame(d)\n",
    "d.head(10)"
   ]
  },
  {
   "cell_type": "markdown",
   "metadata": {
    "id": "d3IqlvpJHbg4"
   },
   "source": [
    "# Time & Efficiency"
   ]
  },
  {
   "cell_type": "code",
   "execution_count": 17,
   "metadata": {
    "colab": {
     "base_uri": "https://localhost:8080/",
     "height": 174
    },
    "executionInfo": {
     "elapsed": 6,
     "status": "ok",
     "timestamp": 1716297978664,
     "user": {
      "displayName": "Marco Russodivito",
      "userId": "05013084347772678948"
     },
     "user_tz": -120
    },
    "id": "m5nWfPq7HiA3",
    "outputId": "44aabfa4-cd49-4006-88f5-6c9e538df4e6"
   },
   "outputs": [
    {
     "data": {
      "text/html": [
       "<div>\n",
       "<style scoped>\n",
       "    .dataframe tbody tr th:only-of-type {\n",
       "        vertical-align: middle;\n",
       "    }\n",
       "\n",
       "    .dataframe tbody tr th {\n",
       "        vertical-align: top;\n",
       "    }\n",
       "\n",
       "    .dataframe thead th {\n",
       "        text-align: right;\n",
       "    }\n",
       "</style>\n",
       "<table border=\"1\" class=\"dataframe\">\n",
       "  <thead>\n",
       "    <tr style=\"text-align: right;\">\n",
       "      <th></th>\n",
       "      <th>Reviewer</th>\n",
       "      <th>reading_time_s</th>\n",
       "      <th>reading_time_m</th>\n",
       "      <th>reading_time_h</th>\n",
       "      <th>reading_time_mean_s</th>\n",
       "    </tr>\n",
       "  </thead>\n",
       "  <tbody>\n",
       "    <tr>\n",
       "      <th>0</th>\n",
       "      <td>original</td>\n",
       "      <td>19977.0</td>\n",
       "      <td>332.95</td>\n",
       "      <td>5.549167</td>\n",
       "      <td>32.273021</td>\n",
       "    </tr>\n",
       "    <tr>\n",
       "      <th>1</th>\n",
       "      <td>reviewer1</td>\n",
       "      <td>20481.0</td>\n",
       "      <td>341.35</td>\n",
       "      <td>5.689167</td>\n",
       "      <td>33.087237</td>\n",
       "    </tr>\n",
       "    <tr>\n",
       "      <th>2</th>\n",
       "      <td>reviewer2</td>\n",
       "      <td>17853.0</td>\n",
       "      <td>297.55</td>\n",
       "      <td>4.959167</td>\n",
       "      <td>28.841680</td>\n",
       "    </tr>\n",
       "    <tr>\n",
       "      <th>3</th>\n",
       "      <td>gpt4</td>\n",
       "      <td>19033.2</td>\n",
       "      <td>317.22</td>\n",
       "      <td>5.287000</td>\n",
       "      <td>30.748304</td>\n",
       "    </tr>\n",
       "  </tbody>\n",
       "</table>\n",
       "</div>"
      ],
      "text/plain": [
       "    Reviewer  reading_time_s  reading_time_m  reading_time_h  \\\n",
       "0   original         19977.0          332.95        5.549167   \n",
       "1  reviewer1         20481.0          341.35        5.689167   \n",
       "2  reviewer2         17853.0          297.55        4.959167   \n",
       "3       gpt4         19033.2          317.22        5.287000   \n",
       "\n",
       "   reading_time_mean_s  \n",
       "0            32.273021  \n",
       "1            33.087237  \n",
       "2            28.841680  \n",
       "3            30.748304  "
      ]
     },
     "execution_count": 17,
     "metadata": {},
     "output_type": "execute_result"
    }
   ],
   "source": [
    "d = []\n",
    "for TEXT_PREFIX, df in dfs_maps.items():\n",
    "  d.append({\n",
    "    'Reviewer': f'{TEXT_PREFIX}',\n",
    "    'reading_time_s': df[f'{TEXT_PREFIX}_reading_time'].sum(),\n",
    "    'reading_time_m': df[f'{TEXT_PREFIX}_reading_time'].sum() / 60,\n",
    "    'reading_time_h': df[f'{TEXT_PREFIX}_reading_time'].sum() / 60 / 60,\n",
    "    'reading_time_mean_s': df[f'{TEXT_PREFIX}_reading_time'].mean(),\n",
    "  })\n",
    "\n",
    "d = pd.DataFrame(d)\n",
    "d.head(10)"
   ]
  },
  {
   "cell_type": "code",
   "execution_count": 18,
   "metadata": {
    "colab": {
     "base_uri": "https://localhost:8080/",
     "height": 112
    },
    "executionInfo": {
     "elapsed": 6,
     "status": "ok",
     "timestamp": 1716297978664,
     "user": {
      "displayName": "Marco Russodivito",
      "userId": "05013084347772678948"
     },
     "user_tz": -120
    },
    "id": "B9dpmJrMIF9g",
    "outputId": "89b3fc80-5c79-4d78-c151-07c30228d44a"
   },
   "outputs": [
    {
     "data": {
      "text/html": [
       "<div>\n",
       "<style scoped>\n",
       "    .dataframe tbody tr th:only-of-type {\n",
       "        vertical-align: middle;\n",
       "    }\n",
       "\n",
       "    .dataframe tbody tr th {\n",
       "        vertical-align: top;\n",
       "    }\n",
       "\n",
       "    .dataframe thead th {\n",
       "        text-align: right;\n",
       "    }\n",
       "</style>\n",
       "<table border=\"1\" class=\"dataframe\">\n",
       "  <thead>\n",
       "    <tr style=\"text-align: right;\">\n",
       "      <th></th>\n",
       "      <th>Reviewer</th>\n",
       "      <th>time_s</th>\n",
       "      <th>time_m</th>\n",
       "      <th>time_h</th>\n",
       "      <th>efficiency</th>\n",
       "      <th>efficiency_mean</th>\n",
       "    </tr>\n",
       "  </thead>\n",
       "  <tbody>\n",
       "    <tr>\n",
       "      <th>0</th>\n",
       "      <td>reviewer1</td>\n",
       "      <td>55927.0</td>\n",
       "      <td>932.116667</td>\n",
       "      <td>15.535278</td>\n",
       "      <td>0.723407</td>\n",
       "      <td>3.442681</td>\n",
       "    </tr>\n",
       "    <tr>\n",
       "      <th>1</th>\n",
       "      <td>reviewer2</td>\n",
       "      <td>82869.0</td>\n",
       "      <td>1381.150000</td>\n",
       "      <td>23.019167</td>\n",
       "      <td>0.456504</td>\n",
       "      <td>0.988165</td>\n",
       "    </tr>\n",
       "  </tbody>\n",
       "</table>\n",
       "</div>"
      ],
      "text/plain": [
       "    Reviewer   time_s       time_m     time_h  efficiency  efficiency_mean\n",
       "0  reviewer1  55927.0   932.116667  15.535278    0.723407         3.442681\n",
       "1  reviewer2  82869.0  1381.150000  23.019167    0.456504         0.988165"
      ]
     },
     "execution_count": 18,
     "metadata": {},
     "output_type": "execute_result"
    }
   ],
   "source": [
    "d = []\n",
    "for TEXT_PREFIX, df in dfs_maps.items():\n",
    "  if TEXT_PREFIX == 'original' or TEXT_PREFIX == 'gpt4':\n",
    "    continue\n",
    "  d.append({\n",
    "    'Reviewer': f'{TEXT_PREFIX}',\n",
    "    'time_s': df[f'{TEXT_PREFIX}_time'].sum(),\n",
    "    'time_m': df[f'{TEXT_PREFIX}_time'].sum() / 60,\n",
    "    'time_h': df[f'{TEXT_PREFIX}_time'].sum() / 60 / 60,\n",
    "    'efficiency': (dfs_maps['original'][f'original_reading_time'].sum() + df[f'{TEXT_PREFIX}_reading_time'].sum()) / df[f'{TEXT_PREFIX}_time'].sum(),\n",
    "    'efficiency_mean': df[f'{TEXT_PREFIX}_efficiency'].mean(),\n",
    "  })\n",
    "\n",
    "d = pd.DataFrame(d)\n",
    "d.head(10)"
   ]
  }
 ],
 "metadata": {
  "colab": {
   "provenance": [],
   "toc_visible": true
  },
  "kernelspec": {
   "display_name": ".venv",
   "language": "python",
   "name": "python3"
  },
  "language_info": {
   "codemirror_mode": {
    "name": "ipython",
    "version": 3
   },
   "file_extension": ".py",
   "mimetype": "text/x-python",
   "name": "python",
   "nbconvert_exporter": "python",
   "pygments_lexer": "ipython3",
   "version": "3.12.2"
  }
 },
 "nbformat": 4,
 "nbformat_minor": 0
}
