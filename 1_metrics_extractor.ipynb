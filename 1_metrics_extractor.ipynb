{
 "cells": [
  {
   "cell_type": "markdown",
   "metadata": {
    "id": "olTmsHJKyq3d"
   },
   "source": [
    "# Merge"
   ]
  },
  {
   "cell_type": "markdown",
   "metadata": {
    "id": "RoZFhXZy6hJw"
   },
   "source": [
    "## Dependencies and imports"
   ]
  },
  {
   "cell_type": "code",
   "execution_count": 1,
   "metadata": {
    "executionInfo": {
     "elapsed": 12359,
     "status": "ok",
     "timestamp": 1716274720463,
     "user": {
      "displayName": "Marco Russodivito",
      "userId": "05013084347772678948"
     },
     "user_tz": -120
    },
    "id": "wWYlmVNbxvAC"
   },
   "outputs": [
    {
     "name": "stderr",
     "output_type": "stream",
     "text": [
      "c:\\Users\\marco\\Desktop\\cb1\\.venv\\Lib\\site-packages\\tqdm\\auto.py:21: TqdmWarning: IProgress not found. Please update jupyter and ipywidgets. See https://ipywidgets.readthedocs.io/en/stable/user_install.html\n",
      "  from .autonotebook import tqdm as notebook_tqdm\n"
     ]
    }
   ],
   "source": [
    "import json\n",
    "\n",
    "import pandas as pd\n",
    "from tqdm import tqdm\n",
    "\n",
    "from italian_ats_evaluator import TextAnalyzer, SimplificationAnalyzer"
   ]
  },
  {
   "cell_type": "markdown",
   "metadata": {
    "id": "36xGfDwwBTbE"
   },
   "source": [
    "## Utils"
   ]
  },
  {
   "cell_type": "code",
   "execution_count": 2,
   "metadata": {
    "executionInfo": {
     "elapsed": 259,
     "status": "ok",
     "timestamp": 1716276088353,
     "user": {
      "displayName": "Marco Russodivito",
      "userId": "05013084347772678948"
     },
     "user_tz": -120
    },
    "id": "rfIYdrtnBUnZ"
   },
   "outputs": [],
   "source": [
    "def reading_time(n_tokens):\n",
    "  reading_speed = 100.0 / 60.0 # words per second\n",
    "  return round(n_tokens / reading_speed, 2)\n",
    "\n",
    "def efficiency(original_reading_time, simplified_reading_time, simplification_time):\n",
    "  total_reading_time = original_reading_time + simplified_reading_time\n",
    "  simplification_time = simplification_time\n",
    "\n",
    "  if simplification_time == 0:\n",
    "    return 999\n",
    "  else:\n",
    "    return round(total_reading_time / simplification_time, 6)"
   ]
  },
  {
   "cell_type": "markdown",
   "metadata": {
    "id": "d6Km2oRp6cJj"
   },
   "source": [
    "## Load Data"
   ]
  },
  {
   "cell_type": "code",
   "execution_count": 3,
   "metadata": {
    "executionInfo": {
     "elapsed": 2,
     "status": "ok",
     "timestamp": 1716276277727,
     "user": {
      "displayName": "Marco Russodivito",
      "userId": "05013084347772678948"
     },
     "user_tz": -120
    },
    "id": "rMEUA3khygXA"
   },
   "outputs": [],
   "source": [
    "paragraphs_df = pd.read_csv(f\"corpora/original.csv\", encoding='utf-8')\n",
    "reviewer_1_df = pd.read_csv(f\"corpora/reviewer1.csv\", encoding='utf-8')\n",
    "reviewer_2_df = pd.read_csv(f\"corpora/reviewer2.csv\", encoding='utf-8')\n",
    "gpt4_df = pd.read_csv(f\"corpora/gpt4.csv\", encoding='utf-8')"
   ]
  },
  {
   "cell_type": "code",
   "execution_count": 4,
   "metadata": {
    "colab": {
     "base_uri": "https://localhost:8080/"
    },
    "executionInfo": {
     "elapsed": 1,
     "status": "ok",
     "timestamp": 1716276279097,
     "user": {
      "displayName": "Marco Russodivito",
      "userId": "05013084347772678948"
     },
     "user_tz": -120
    },
    "id": "Q_46IQ4h7YMj",
    "outputId": "7afad307-fce0-42c6-f15b-2c00c962d816"
   },
   "outputs": [
    {
     "data": {
      "text/plain": [
       "((878, 3), (878, 8), (878, 8), (619, 4))"
      ]
     },
     "execution_count": 4,
     "metadata": {},
     "output_type": "execute_result"
    }
   ],
   "source": [
    "paragraphs_df.shape, reviewer_1_df.shape, reviewer_2_df.shape, gpt4_df.shape"
   ]
  },
  {
   "cell_type": "markdown",
   "metadata": {
    "id": "X4774Hjw6eXA"
   },
   "source": [
    "## Clean Data"
   ]
  },
  {
   "cell_type": "code",
   "execution_count": 5,
   "metadata": {
    "executionInfo": {
     "elapsed": 248,
     "status": "ok",
     "timestamp": 1716276280777,
     "user": {
      "displayName": "Marco Russodivito",
      "userId": "05013084347772678948"
     },
     "user_tz": -120
    },
    "id": "Jk7-LglU8C-E"
   },
   "outputs": [],
   "source": [
    "paragraphs_df = paragraphs_df[(paragraphs_df['document'] != '99bdc9fdd8097f067f77cb220074b1b5') | (paragraphs_df['paragraph_index'] <= 80)]\n",
    "reviewer_1_df = reviewer_1_df[(reviewer_1_df['document'] != '99bdc9fdd8097f067f77cb220074b1b5') | (reviewer_1_df['paragraph_index'] <= 80)]\n",
    "reviewer_2_df = reviewer_2_df[(reviewer_2_df['document'] != '99bdc9fdd8097f067f77cb220074b1b5') | (reviewer_2_df['paragraph_index'] <= 80)]\n",
    "gpt4_df = gpt4_df[(gpt4_df['document'] != '99bdc9fdd8097f067f77cb220074b1b5') | (gpt4_df['paragraph_index'] <= 80)]"
   ]
  },
  {
   "cell_type": "code",
   "execution_count": 6,
   "metadata": {
    "executionInfo": {
     "elapsed": 1,
     "status": "ok",
     "timestamp": 1716276281035,
     "user": {
      "displayName": "Marco Russodivito",
      "userId": "05013084347772678948"
     },
     "user_tz": -120
    },
    "id": "C4340KJT8mvn"
   },
   "outputs": [],
   "source": [
    "reviewer_1_df = reviewer_1_df.drop(columns=['tagging_date'])\n",
    "reviewer_2_df = reviewer_2_df.drop(columns=['tagging_date'])"
   ]
  },
  {
   "cell_type": "code",
   "execution_count": 7,
   "metadata": {
    "executionInfo": {
     "elapsed": 0,
     "status": "ok",
     "timestamp": 1716276281362,
     "user": {
      "displayName": "Marco Russodivito",
      "userId": "05013084347772678948"
     },
     "user_tz": -120
    },
    "id": "p8JgUltnzIAq"
   },
   "outputs": [],
   "source": [
    "reviewer_1_df = reviewer_1_df.rename(columns={\"simplified_text\": \"reviewer1_text\", 'original_text_isssues_detected': 'reviewer1_issues', 'simplification_rules_applied': 'reviewer1_rules', 'tagging_elapsed_time': 'reviewer1_time'})\n",
    "reviewer_2_df = reviewer_2_df.rename(columns={\"simplified_text\": \"reviewer2_text\", 'original_text_isssues_detected': 'reviewer2_issues', 'simplification_rules_applied': 'reviewer2_rules', 'tagging_elapsed_time': 'reviewer2_time'})\n",
    "gpt4_df = gpt4_df.rename(columns={\"simplified_text\": \"gpt4_text\"})"
   ]
  },
  {
   "cell_type": "code",
   "execution_count": 8,
   "metadata": {
    "colab": {
     "base_uri": "https://localhost:8080/"
    },
    "executionInfo": {
     "elapsed": 1,
     "status": "ok",
     "timestamp": 1716276282042,
     "user": {
      "displayName": "Marco Russodivito",
      "userId": "05013084347772678948"
     },
     "user_tz": -120
    },
    "id": "NZCiOTJI1emv",
    "outputId": "4e02fc45-8815-4481-a2b9-34773d7ea907"
   },
   "outputs": [
    {
     "data": {
      "text/plain": [
       "((619, 7), (619, 7), (619, 4))"
      ]
     },
     "execution_count": 8,
     "metadata": {},
     "output_type": "execute_result"
    }
   ],
   "source": [
    "reviewer_1_df.shape, reviewer_2_df.shape, gpt4_df.shape"
   ]
  },
  {
   "cell_type": "markdown",
   "metadata": {
    "id": "9q1jqlCE9CkR"
   },
   "source": [
    "## Original"
   ]
  },
  {
   "cell_type": "code",
   "execution_count": 9,
   "metadata": {
    "colab": {
     "base_uri": "https://localhost:8080/"
    },
    "executionInfo": {
     "elapsed": 14951,
     "status": "ok",
     "timestamp": 1716276303450,
     "user": {
      "displayName": "Marco Russodivito",
      "userId": "05013084347772678948"
     },
     "user_tz": -120
    },
    "id": "lln5ltYF9HJ1",
    "outputId": "8244cf53-fd6f-4bfb-afb9-0694c78d765e"
   },
   "outputs": [
    {
     "name": "stderr",
     "output_type": "stream",
     "text": [
      "  0%|          | 0/619 [00:00<?, ?it/s]"
     ]
    },
    {
     "name": "stdout",
     "output_type": "stream",
     "text": [
      "\u001b[38;5;2m✔ Download and installation successful\u001b[0m\n",
      "You can now load the package via spacy.load('it_core_news_lg')\n",
      "\u001b[38;5;3m⚠ Restart to reload dependencies\u001b[0m\n",
      "If you are in a Jupyter or Colab notebook, you may need to restart Python in\n",
      "order to load all the package's dependencies. You can do this by selecting the\n",
      "'Restart kernel' or 'Restart runtime' option.\n"
     ]
    },
    {
     "name": "stderr",
     "output_type": "stream",
     "text": [
      "100%|██████████| 619/619 [00:27<00:00, 22.52it/s] \n"
     ]
    }
   ],
   "source": [
    "original_metrics = []\n",
    "original_raw_data = []\n",
    "for row in tqdm(paragraphs_df.to_dict(orient=\"records\")):\n",
    "  result = TextAnalyzer(row[\"original_text\"])\n",
    "  original_metrics.append({\n",
    "    'document': row['document'],\n",
    "    'paragraph_index': row['paragraph_index'],\n",
    "    'original_text': row['original_text'],\n",
    "    # Basic\n",
    "    'original_n_tokens': result.basic.n_tokens,\n",
    "    'original_n_tokens_all': result.basic.n_tokens_all,\n",
    "    'original_n_chars': result.basic.n_chars,\n",
    "    'original_n_chars_all': result.basic.n_chars_all,\n",
    "    'original_n_syllables': result.basic.n_syllables,\n",
    "    'original_n_words': result.basic.n_words,\n",
    "    'original_n_unique_lemmas': result.basic.n_unique_lemmas,\n",
    "    'original_n_sentences': result.basic.n_sentences,\n",
    "    # Pos\n",
    "    'original_n_other': result.pos.n_other,\n",
    "    'original_n_nouns': result.pos.n_nouns,\n",
    "    'original_n_verbs': result.pos.n_verbs,\n",
    "    'original_n_number': result.pos.n_number,\n",
    "    'original_n_symbols': result.pos.n_symbols,\n",
    "    'original_n_adverbs': result.pos.n_adverbs,\n",
    "    'original_n_articles': result.pos.n_articles,\n",
    "    'original_n_pronouns': result.pos.n_pronouns,\n",
    "    'original_n_particles': result.pos.n_particles,\n",
    "    'original_n_adjectives': result.pos.n_adjectives,\n",
    "    'original_n_prepositions': result.pos.n_prepositions,\n",
    "    'original_n_proper_nouns': result.pos.n_proper_nouns,\n",
    "    'original_n_punctuations': result.pos.n_punctuations,\n",
    "    'original_n_interjections': result.pos.n_interjections,\n",
    "    'original_n_coordinating_conjunctions': result.pos.n_coordinating_conjunctions,\n",
    "    'original_n_subordinating_conjunctions': result.pos.n_subordinating_conjunctions,\n",
    "    # Verbs\n",
    "    'original_n_active_verbs': result.verbs.n_active_verbs,\n",
    "    'original_n_passive_verbs': result.verbs.n_passive_verbs,\n",
    "    # Readability\n",
    "    'original_ttr': result.readability.ttr,\n",
    "    'original_gulpease': result.readability.gulpease,\n",
    "    'original_flesch_vacca': result.readability.flesch_vacca,\n",
    "    'original_lexical_density': result.readability.lexical_density,\n",
    "    # VdB\n",
    "    'original_n_vdb': result.vdb.n_vdb_tokens,\n",
    "    'original_n_vdb_fo': result.vdb.n_vdb_fo_tokens,\n",
    "    'original_n_vdb_au': result.vdb.n_vdb_au_tokens,\n",
    "    'original_n_vdb_ad': result.vdb.n_vdb_ad_tokens,\n",
    "    # Time\n",
    "    'original_reading_time': reading_time(result.basic.n_tokens),\n",
    "  })\n",
    "  original_raw_data.append({\n",
    "      'document': row['document'],\n",
    "      'paragraph_index': row['paragraph_index'],\n",
    "      'original_text': row['original_text'],\n",
    "      'original_tokens': result.basic.tokens,\n",
    "      'original_lemmas': result.basic.lemmas\n",
    "  })"
   ]
  },
  {
   "cell_type": "code",
   "execution_count": 10,
   "metadata": {
    "executionInfo": {
     "elapsed": 1,
     "status": "ok",
     "timestamp": 1716276303450,
     "user": {
      "displayName": "Marco Russodivito",
      "userId": "05013084347772678948"
     },
     "user_tz": -120
    },
    "id": "d5n884N5915s"
   },
   "outputs": [],
   "source": [
    "pd.DataFrame(original_metrics).to_csv(f\"./corpora_with_metrics/original.csv\", encoding=\"utf-8\", index=False)\n",
    "json.dump(original_raw_data, open(f\"./corpora_with_metrics/original.json\", 'w', encoding=\"utf-8\"))"
   ]
  },
  {
   "cell_type": "markdown",
   "metadata": {
    "id": "9zXSvLZ9-Iba"
   },
   "source": [
    "## Reviewer1"
   ]
  },
  {
   "cell_type": "code",
   "execution_count": 11,
   "metadata": {
    "colab": {
     "base_uri": "https://localhost:8080/"
    },
    "executionInfo": {
     "elapsed": 139587,
     "status": "ok",
     "timestamp": 1716276533466,
     "user": {
      "displayName": "Marco Russodivito",
      "userId": "05013084347772678948"
     },
     "user_tz": -120
    },
    "id": "dH5tcDkK-Mmr",
    "outputId": "09c4baf0-009b-476a-a024-a871f707d6e6"
   },
   "outputs": [
    {
     "name": "stderr",
     "output_type": "stream",
     "text": [
      "100%|██████████| 619/619 [00:26<00:00, 23.49it/s]\n"
     ]
    }
   ],
   "source": [
    "reviewer1_metrics = []\n",
    "reviewer1_raw_data = []\n",
    "for row in tqdm(reviewer_1_df.to_dict(orient=\"records\")):\n",
    "  result = SimplificationAnalyzer(row[\"original_text\"], row[f\"reviewer1_text\"])\n",
    "  reviewer1_metrics.append({\n",
    "    'document': row['document'],\n",
    "    'paragraph_index': row['paragraph_index'],\n",
    "    'original_text': row['original_text'],\n",
    "    'reviewer1_text': row[f'reviewer1_text'],\n",
    "    # Basic\n",
    "    'reviewer1_n_tokens': result.simplified.basic.n_tokens,\n",
    "    'reviewer1_n_tokens_all': result.simplified.basic.n_tokens_all,\n",
    "    'reviewer1_n_chars': result.simplified.basic.n_chars,\n",
    "    'reviewer1_n_chars_all': result.simplified.basic.n_chars_all,\n",
    "    'reviewer1_n_syllables': result.simplified.basic.n_syllables,\n",
    "    'reviewer1_n_words': result.simplified.basic.n_words,\n",
    "    'reviewer1_n_unique_lemmas': result.simplified.basic.n_unique_lemmas,\n",
    "    'reviewer1_n_sentences': result.simplified.basic.n_sentences,\n",
    "    # Pos\n",
    "    'reviewer1_n_other': result.simplified.pos.n_other,\n",
    "    'reviewer1_n_nouns': result.simplified.pos.n_nouns,\n",
    "    'reviewer1_n_verbs': result.simplified.pos.n_verbs,\n",
    "    'reviewer1_n_number': result.simplified.pos.n_number,\n",
    "    'reviewer1_n_symbols': result.simplified.pos.n_symbols,\n",
    "    'reviewer1_n_adverbs': result.simplified.pos.n_adverbs,\n",
    "    'reviewer1_n_articles': result.simplified.pos.n_articles,\n",
    "    'reviewer1_n_pronouns': result.simplified.pos.n_pronouns,\n",
    "    'reviewer1_n_particles': result.simplified.pos.n_particles,\n",
    "    'reviewer1_n_adjectives': result.simplified.pos.n_adjectives,\n",
    "    'reviewer1_n_prepositions': result.simplified.pos.n_prepositions,\n",
    "    'reviewer1_n_proper_nouns': result.simplified.pos.n_proper_nouns,\n",
    "    'reviewer1_n_punctuations': result.simplified.pos.n_punctuations,\n",
    "    'reviewer1_n_interjections': result.simplified.pos.n_interjections,\n",
    "    'reviewer1_n_coordinating_conjunctions': result.simplified.pos.n_coordinating_conjunctions,\n",
    "    'reviewer1_n_subordinating_conjunctions': result.simplified.pos.n_subordinating_conjunctions,\n",
    "    # Verbs\n",
    "    'reviewer1_n_active_verbs': result.simplified.verbs.n_active_verbs,\n",
    "    'reviewer1_n_passive_verbs': result.simplified.verbs.n_passive_verbs,\n",
    "    # Readability\n",
    "    'reviewer1_ttr': result.simplified.readability.ttr,\n",
    "    'reviewer1_gulpease': result.simplified.readability.gulpease,\n",
    "    'reviewer1_flesch_vacca': result.simplified.readability.flesch_vacca,\n",
    "    'reviewer1_lexical_density': result.simplified.readability.lexical_density,\n",
    "    # VdB\n",
    "    'reviewer1_n_vdb': result.simplified.vdb.n_vdb_tokens,\n",
    "    'reviewer1_n_vdb_fo': result.simplified.vdb.n_vdb_fo_tokens,\n",
    "    'reviewer1_n_vdb_au': result.simplified.vdb.n_vdb_au_tokens,\n",
    "    'reviewer1_n_vdb_ad': result.simplified.vdb.n_vdb_ad_tokens,\n",
    "    # Similariy\n",
    "    'reviewer1_semantic_similarity': result.similarity.semantic_similarity,\n",
    "    # Diff\n",
    "    'reviewer1_editdistance': result.diff.editdistance,\n",
    "    'reviewer1_n_added_tokens': result.diff.n_added_tokens,\n",
    "    'reviewer1_n_deleted_tokens': result.diff.n_deleted_tokens,\n",
    "    'reviewer1_n_added_vdb_tokens': result.diff.n_added_vdb_tokens,\n",
    "    'reviewer1_n_deleted_vdb_tokens': result.diff.n_deleted_vdb_tokens,\n",
    "    # Time & efficiency\n",
    "    'reviewer1_reading_time': reading_time(result.simplified.basic.n_tokens),\n",
    "    'reviewer1_time': row[f'reviewer1_time'],\n",
    "    'reviewer1_efficiency': efficiency(\n",
    "        original_reading_time=reading_time(result.reference.basic.n_tokens),\n",
    "        simplified_reading_time=reading_time(result.simplified.basic.n_tokens),\n",
    "        simplification_time=row[f'reviewer1_time']\n",
    "    )\n",
    "  })\n",
    "  row[f\"reviewer1_issues\"] = '' if str(row[f\"reviewer1_issues\"]) == 'nan' else row[f\"reviewer1_issues\"]\n",
    "  row[f\"reviewer1_rules\"] = '' if str(row[f\"reviewer1_rules\"]) == 'nan' else row[f\"reviewer1_rules\"]\n",
    "  reviewer1_raw_data.append({\n",
    "    'document': row['document'],\n",
    "    'paragraph_index': row['paragraph_index'],\n",
    "    'original_text': row['original_text'],\n",
    "    'reviewer1_text': row['reviewer1_text'],\n",
    "    'reviewer1_tokens': result.simplified.basic.tokens,\n",
    "    'reviewer1_lemmas': result.simplified.basic.lemmas,\n",
    "    'reviewer1_issues': [i for i in row[f\"reviewer1_issues\"].lower().split('|') if i != \"\"],\n",
    "    'reviewer1_rules': [r for r in row[f\"reviewer1_rules\"].lower().split('|') if r != \"\"]\n",
    "  })"
   ]
  },
  {
   "cell_type": "code",
   "execution_count": 12,
   "metadata": {
    "executionInfo": {
     "elapsed": 3,
     "status": "ok",
     "timestamp": 1716276533742,
     "user": {
      "displayName": "Marco Russodivito",
      "userId": "05013084347772678948"
     },
     "user_tz": -120
    },
    "id": "T48zN7KPAixd"
   },
   "outputs": [],
   "source": [
    "pd.DataFrame(reviewer1_metrics).to_csv(f\"./corpora_with_metrics/reviewer1.csv\", encoding=\"utf-8\", index=False)\n",
    "json.dump(reviewer1_raw_data, open(f\"./corpora_with_metrics/reviewer1.json\", 'w', encoding=\"utf-8\"))"
   ]
  },
  {
   "cell_type": "markdown",
   "metadata": {
    "id": "hFz-NPPNC5uE"
   },
   "source": [
    "## Reviewer2"
   ]
  },
  {
   "cell_type": "code",
   "execution_count": 13,
   "metadata": {
    "colab": {
     "base_uri": "https://localhost:8080/"
    },
    "executionInfo": {
     "elapsed": 135405,
     "status": "ok",
     "timestamp": 1716276781498,
     "user": {
      "displayName": "Marco Russodivito",
      "userId": "05013084347772678948"
     },
     "user_tz": -120
    },
    "id": "1ILfaKpAC_h0",
    "outputId": "55679b53-0d32-47d6-c6ad-e7a3d7bc0dce"
   },
   "outputs": [
    {
     "name": "stderr",
     "output_type": "stream",
     "text": [
      "100%|██████████| 619/619 [00:20<00:00, 30.44it/s]\n"
     ]
    }
   ],
   "source": [
    "reviewer2_metrics = []\n",
    "reviewer2_raw_data = []\n",
    "for row in tqdm(reviewer_2_df.to_dict(orient=\"records\")):\n",
    "  result = SimplificationAnalyzer(row[\"original_text\"], row[f\"reviewer2_text\"])\n",
    "  reviewer2_metrics.append({\n",
    "    'document': row['document'],\n",
    "    'paragraph_index': row['paragraph_index'],\n",
    "    'original_text': row['original_text'],\n",
    "    'reviewer2_text': row[f'reviewer2_text'],\n",
    "    # Basic\n",
    "    'reviewer2_n_tokens': result.simplified.basic.n_tokens,\n",
    "    'reviewer2_n_tokens_all': result.simplified.basic.n_tokens_all,\n",
    "    'reviewer2_n_chars': result.simplified.basic.n_chars,\n",
    "    'reviewer2_n_chars_all': result.simplified.basic.n_chars_all,\n",
    "    'reviewer2_n_syllables': result.simplified.basic.n_syllables,\n",
    "    'reviewer2_n_words': result.simplified.basic.n_words,\n",
    "    'reviewer2_n_unique_lemmas': result.simplified.basic.n_unique_lemmas,\n",
    "    'reviewer2_n_sentences': result.simplified.basic.n_sentences,\n",
    "    # Pos\n",
    "    'reviewer2_n_other': result.simplified.pos.n_other,\n",
    "    'reviewer2_n_nouns': result.simplified.pos.n_nouns,\n",
    "    'reviewer2_n_verbs': result.simplified.pos.n_verbs,\n",
    "    'reviewer2_n_number': result.simplified.pos.n_number,\n",
    "    'reviewer2_n_symbols': result.simplified.pos.n_symbols,\n",
    "    'reviewer2_n_adverbs': result.simplified.pos.n_adverbs,\n",
    "    'reviewer2_n_articles': result.simplified.pos.n_articles,\n",
    "    'reviewer2_n_pronouns': result.simplified.pos.n_pronouns,\n",
    "    'reviewer2_n_particles': result.simplified.pos.n_particles,\n",
    "    'reviewer2_n_adjectives': result.simplified.pos.n_adjectives,\n",
    "    'reviewer2_n_prepositions': result.simplified.pos.n_prepositions,\n",
    "    'reviewer2_n_proper_nouns': result.simplified.pos.n_proper_nouns,\n",
    "    'reviewer2_n_punctuations': result.simplified.pos.n_punctuations,\n",
    "    'reviewer2_n_interjections': result.simplified.pos.n_interjections,\n",
    "    'reviewer2_n_coordinating_conjunctions': result.simplified.pos.n_coordinating_conjunctions,\n",
    "    'reviewer2_n_subordinating_conjunctions': result.simplified.pos.n_subordinating_conjunctions,\n",
    "    # Verbs\n",
    "    'reviewer2_n_active_verbs': result.simplified.verbs.n_active_verbs,\n",
    "    'reviewer2_n_passive_verbs': result.simplified.verbs.n_passive_verbs,\n",
    "    # Readability\n",
    "    'reviewer2_ttr': result.simplified.readability.ttr,\n",
    "    'reviewer2_gulpease': result.simplified.readability.gulpease,\n",
    "    'reviewer2_flesch_vacca': result.simplified.readability.flesch_vacca,\n",
    "    'reviewer2_lexical_density': result.simplified.readability.lexical_density,\n",
    "    # VdB\n",
    "    'reviewer2_n_vdb': result.simplified.vdb.n_vdb_tokens,\n",
    "    'reviewer2_n_vdb_fo': result.simplified.vdb.n_vdb_fo_tokens,\n",
    "    'reviewer2_n_vdb_au': result.simplified.vdb.n_vdb_au_tokens,\n",
    "    'reviewer2_n_vdb_ad': result.simplified.vdb.n_vdb_ad_tokens,\n",
    "    # Similariy\n",
    "    'reviewer2_semantic_similarity': result.similarity.semantic_similarity,\n",
    "    # Diff\n",
    "    'reviewer2_editdistance': result.diff.editdistance,\n",
    "    'reviewer2_n_added_tokens': result.diff.n_added_tokens,\n",
    "    'reviewer2_n_deleted_tokens': result.diff.n_deleted_tokens,\n",
    "    'reviewer2_n_added_vdb_tokens': result.diff.n_added_vdb_tokens,\n",
    "    'reviewer2_n_deleted_vdb_tokens': result.diff.n_deleted_vdb_tokens,\n",
    "    # Time & efficiency\n",
    "    'reviewer2_reading_time': reading_time(result.simplified.basic.n_tokens),\n",
    "    'reviewer2_time': row[f'reviewer2_time'],\n",
    "    'reviewer2_efficiency': efficiency(\n",
    "        original_reading_time=reading_time(result.reference.basic.n_tokens),\n",
    "        simplified_reading_time=reading_time(result.simplified.basic.n_tokens),\n",
    "        simplification_time=row[f'reviewer2_time']\n",
    "    )\n",
    "  })\n",
    "  row[f\"reviewer2_issues\"] = '' if str(row[f\"reviewer2_issues\"]) == 'nan' else row[f\"reviewer2_issues\"]\n",
    "  row[f\"reviewer2_rules\"] = '' if str(row[f\"reviewer2_rules\"]) == 'nan' else row[f\"reviewer2_rules\"]\n",
    "  reviewer2_raw_data.append({\n",
    "    'document': row['document'],\n",
    "    'paragraph_index': row['paragraph_index'],\n",
    "    'original_text': row['original_text'],\n",
    "    'reviewer2_text': row['reviewer2_text'],\n",
    "    'reviewer2_tokens': result.simplified.basic.tokens,\n",
    "    'reviewer2_lemmas': result.simplified.basic.lemmas,\n",
    "    'reviewer2_issues': [i for i in row[f\"reviewer2_issues\"].lower().split('|') if i != \"\"],\n",
    "    'reviewer2_rules': [r for r in row[f\"reviewer2_rules\"].lower().split('|') if r != \"\"]\n",
    "  })"
   ]
  },
  {
   "cell_type": "code",
   "execution_count": 14,
   "metadata": {
    "executionInfo": {
     "elapsed": 313,
     "status": "ok",
     "timestamp": 1716276781810,
     "user": {
      "displayName": "Marco Russodivito",
      "userId": "05013084347772678948"
     },
     "user_tz": -120
    },
    "id": "NjZv11XCC8Gc"
   },
   "outputs": [],
   "source": [
    "pd.DataFrame(reviewer2_metrics).to_csv(f\"./corpora_with_metrics/reviewer2.csv\", encoding=\"utf-8\", index=False)\n",
    "json.dump(reviewer2_raw_data, open(f\"./corpora_with_metrics/reviewer2.json\", 'w', encoding=\"utf-8\"))"
   ]
  },
  {
   "cell_type": "markdown",
   "metadata": {
    "id": "tkj4pzgzDjyj"
   },
   "source": [
    "## Gpt4"
   ]
  },
  {
   "cell_type": "code",
   "execution_count": 15,
   "metadata": {
    "colab": {
     "base_uri": "https://localhost:8080/"
    },
    "executionInfo": {
     "elapsed": 118340,
     "status": "ok",
     "timestamp": 1716276912102,
     "user": {
      "displayName": "Marco Russodivito",
      "userId": "05013084347772678948"
     },
     "user_tz": -120
    },
    "id": "17aFK0eADplW",
    "outputId": "50a915ff-32a2-4e80-c7e5-f2dc6f962ac7"
   },
   "outputs": [
    {
     "name": "stderr",
     "output_type": "stream",
     "text": [
      "100%|██████████| 619/619 [00:21<00:00, 29.23it/s]\n"
     ]
    }
   ],
   "source": [
    "gpt4_metrics = []\n",
    "gpt4_raw_data = []\n",
    "for row in tqdm(gpt4_df.to_dict(orient=\"records\")):\n",
    "  result = SimplificationAnalyzer(row[\"original_text\"], row[f\"gpt4_text\"])\n",
    "  gpt4_metrics.append({\n",
    "    'document': row['document'],\n",
    "    'paragraph_index': row['paragraph_index'],\n",
    "    'original_text': row['original_text'],\n",
    "    'gpt4_text': row[f'gpt4_text'],\n",
    "    # Basic\n",
    "    'gpt4_n_tokens': result.simplified.basic.n_tokens,\n",
    "    'gpt4_n_tokens_all': result.simplified.basic.n_tokens_all,\n",
    "    'gpt4_n_chars': result.simplified.basic.n_chars,\n",
    "    'gpt4_n_chars_all': result.simplified.basic.n_chars_all,\n",
    "    'gpt4_n_syllables': result.simplified.basic.n_syllables,\n",
    "    'gpt4_n_words': result.simplified.basic.n_words,\n",
    "    'gpt4_n_unique_lemmas': result.simplified.basic.n_unique_lemmas,\n",
    "    'gpt4_n_sentences': result.simplified.basic.n_sentences,\n",
    "    # Pos\n",
    "    'gpt4_n_other': result.simplified.pos.n_other,\n",
    "    'gpt4_n_nouns': result.simplified.pos.n_nouns,\n",
    "    'gpt4_n_verbs': result.simplified.pos.n_verbs,\n",
    "    'gpt4_n_number': result.simplified.pos.n_number,\n",
    "    'gpt4_n_symbols': result.simplified.pos.n_symbols,\n",
    "    'gpt4_n_adverbs': result.simplified.pos.n_adverbs,\n",
    "    'gpt4_n_articles': result.simplified.pos.n_articles,\n",
    "    'gpt4_n_pronouns': result.simplified.pos.n_pronouns,\n",
    "    'gpt4_n_particles': result.simplified.pos.n_particles,\n",
    "    'gpt4_n_adjectives': result.simplified.pos.n_adjectives,\n",
    "    'gpt4_n_prepositions': result.simplified.pos.n_prepositions,\n",
    "    'gpt4_n_proper_nouns': result.simplified.pos.n_proper_nouns,\n",
    "    'gpt4_n_punctuations': result.simplified.pos.n_punctuations,\n",
    "    'gpt4_n_interjections': result.simplified.pos.n_interjections,\n",
    "    'gpt4_n_coordinating_conjunctions': result.simplified.pos.n_coordinating_conjunctions,\n",
    "    'gpt4_n_subordinating_conjunctions': result.simplified.pos.n_subordinating_conjunctions,\n",
    "    # Verbs\n",
    "    'gpt4_n_active_verbs': result.simplified.verbs.n_active_verbs,\n",
    "    'gpt4_n_passive_verbs': result.simplified.verbs.n_passive_verbs,\n",
    "    # Readability\n",
    "    'gpt4_ttr': result.simplified.readability.ttr,\n",
    "    'gpt4_gulpease': result.simplified.readability.gulpease,\n",
    "    'gpt4_flesch_vacca': result.simplified.readability.flesch_vacca,\n",
    "    'gpt4_lexical_density': result.simplified.readability.lexical_density,\n",
    "    # VdB\n",
    "    'gpt4_n_vdb': result.simplified.vdb.n_vdb_tokens,\n",
    "    'gpt4_n_vdb_fo': result.simplified.vdb.n_vdb_fo_tokens,\n",
    "    'gpt4_n_vdb_au': result.simplified.vdb.n_vdb_au_tokens,\n",
    "    'gpt4_n_vdb_ad': result.simplified.vdb.n_vdb_ad_tokens,\n",
    "    # Similariy\n",
    "    'gpt4_semantic_similarity': result.similarity.semantic_similarity,\n",
    "    # Diff\n",
    "    'gpt4_editdistance': result.diff.editdistance,\n",
    "    'gpt4_n_added_tokens': result.diff.n_added_tokens,\n",
    "    'gpt4_n_deleted_tokens': result.diff.n_deleted_tokens,\n",
    "    'gpt4_n_added_vdb_tokens': result.diff.n_added_vdb_tokens,\n",
    "    'gpt4_n_deleted_vdb_tokens': result.diff.n_deleted_vdb_tokens,\n",
    "    # Time & efficiency\n",
    "    'gpt4_reading_time': reading_time(result.simplified.basic.n_tokens)\n",
    "  })\n",
    "  gpt4_raw_data.append({\n",
    "    'document': row['document'],\n",
    "    'paragraph_index': row['paragraph_index'],\n",
    "    'original_text': row['original_text'],\n",
    "    'gpt4_text': row['gpt4_text'],\n",
    "    'gpt4_tokens': result.simplified.basic.tokens,\n",
    "    'gpt4_lemmas': result.simplified.basic.lemmas,\n",
    "  })"
   ]
  },
  {
   "cell_type": "code",
   "execution_count": 16,
   "metadata": {
    "executionInfo": {
     "elapsed": 254,
     "status": "ok",
     "timestamp": 1716276915559,
     "user": {
      "displayName": "Marco Russodivito",
      "userId": "05013084347772678948"
     },
     "user_tz": -120
    },
    "id": "jaIUrLHYDmBg"
   },
   "outputs": [],
   "source": [
    "pd.DataFrame(gpt4_metrics).to_csv(f\"./corpora_with_metrics/gpt4.csv\", encoding=\"utf-8\", index=False)\n",
    "json.dump(gpt4_raw_data, open(f\"./corpora_with_metrics/gpt4.json\", 'w', encoding=\"utf-8\"))"
   ]
  }
 ],
 "metadata": {
  "colab": {
   "provenance": []
  },
  "kernelspec": {
   "display_name": ".venv",
   "language": "python",
   "name": "python3"
  },
  "language_info": {
   "codemirror_mode": {
    "name": "ipython",
    "version": 3
   },
   "file_extension": ".py",
   "mimetype": "text/x-python",
   "name": "python",
   "nbconvert_exporter": "python",
   "pygments_lexer": "ipython3",
   "version": "3.12.2"
  }
 },
 "nbformat": 4,
 "nbformat_minor": 0
}
